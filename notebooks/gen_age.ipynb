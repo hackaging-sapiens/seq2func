{
 "cells": [
  {
   "cell_type": "code",
   "execution_count": 1,
   "id": "1915a0c8",
   "metadata": {},
   "outputs": [],
   "source": [
    "import requests\n",
    "import zipfile\n",
    "import io\n",
    "import csv\n",
    "from pathlib import Path\n",
    "import pandas as pd"
   ]
  },
  {
   "cell_type": "code",
   "execution_count": 2,
   "id": "2c2705a5",
   "metadata": {},
   "outputs": [],
   "source": [
    "# URL of the GenAge human genes dataset (tab-delimited within a ZIP)  \n",
    "# (You might need to check current URL if updated.)  \n",
    "URL = \"https://genomics.senescence.info/genes/human_genes.zip\"  "
   ]
  },
  {
   "cell_type": "code",
   "execution_count": 3,
   "id": "4c92a608",
   "metadata": {},
   "outputs": [],
   "source": [
    "def download_and_extract(url, output_path=None):\n",
    "    print(\"Downloading\", url)\n",
    "    resp = requests.get(url)\n",
    "    resp.raise_for_status()\n",
    "    z = zipfile.ZipFile(io.BytesIO(resp.content))\n",
    "    # List files in zip\n",
    "    print(\"Contents:\", z.namelist())\n",
    "    # Choose the CSV or tab-delimited file (GenAge now provides CSV format)\n",
    "    fname = next((f for f in z.namelist() if f.lower().endswith((\".csv\", \".txt\", \".tsv\", \".dat\"))), None)\n",
    "    if fname is None:\n",
    "        raise RuntimeError(\"Cannot find appropriate file inside ZIP\")\n",
    "    print(\"Extracting\", fname)\n",
    "    data = z.read(fname)\n",
    "    target_path = Path(output_path) if output_path else Path(fname)\n",
    "    target_path.parent.mkdir(parents=True, exist_ok=True)\n",
    "    target_path.write_bytes(data)\n",
    "    print(\"Saved to\", target_path)\n",
    "    lines = data.decode('utf-8').splitlines()\n",
    "    return lines, target_path\n"
   ]
  },
  {
   "cell_type": "code",
   "execution_count": 4,
   "id": "ca36b6e6",
   "metadata": {},
   "outputs": [
    {
     "name": "stdout",
     "output_type": "stream",
     "text": [
      "Downloading https://genomics.senescence.info/genes/human_genes.zip\n",
      "Contents: ['genage_human.csv', 'release.html']\n",
      "Extracting genage_human.csv\n",
      "Saved to genage_human.csv\n",
      "Raw CSV saved to genage_human.csv\n"
     ]
    }
   ],
   "source": [
    "lines, raw_csv_path = download_and_extract(URL)\n",
    "print(\"Raw CSV saved to\", raw_csv_path)\n"
   ]
  },
  {
   "cell_type": "code",
   "execution_count": 6,
   "id": "426bb799",
   "metadata": {},
   "outputs": [],
   "source": [
    "df = pd.read_csv('genage_human.csv')"
   ]
  },
  {
   "cell_type": "code",
   "execution_count": 7,
   "id": "8d871780",
   "metadata": {},
   "outputs": [
    {
     "data": {
      "text/html": [
       "<div>\n",
       "<style scoped>\n",
       "    .dataframe tbody tr th:only-of-type {\n",
       "        vertical-align: middle;\n",
       "    }\n",
       "\n",
       "    .dataframe tbody tr th {\n",
       "        vertical-align: top;\n",
       "    }\n",
       "\n",
       "    .dataframe thead th {\n",
       "        text-align: right;\n",
       "    }\n",
       "</style>\n",
       "<table border=\"1\" class=\"dataframe\">\n",
       "  <thead>\n",
       "    <tr style=\"text-align: right;\">\n",
       "      <th></th>\n",
       "      <th>GenAge ID</th>\n",
       "      <th>symbol</th>\n",
       "      <th>name</th>\n",
       "      <th>entrez gene id</th>\n",
       "      <th>uniprot</th>\n",
       "      <th>why</th>\n",
       "    </tr>\n",
       "  </thead>\n",
       "  <tbody>\n",
       "    <tr>\n",
       "      <th>0</th>\n",
       "      <td>1</td>\n",
       "      <td>GHR</td>\n",
       "      <td>growth hormone receptor</td>\n",
       "      <td>2690</td>\n",
       "      <td>GHR_HUMAN</td>\n",
       "      <td>mammal</td>\n",
       "    </tr>\n",
       "    <tr>\n",
       "      <th>1</th>\n",
       "      <td>2</td>\n",
       "      <td>GHRH</td>\n",
       "      <td>growth hormone releasing hormone</td>\n",
       "      <td>2691</td>\n",
       "      <td>SLIB_HUMAN</td>\n",
       "      <td>mammal</td>\n",
       "    </tr>\n",
       "    <tr>\n",
       "      <th>2</th>\n",
       "      <td>3</td>\n",
       "      <td>SHC1</td>\n",
       "      <td>SHC (Src homology 2 domain containing) transfo...</td>\n",
       "      <td>6464</td>\n",
       "      <td>SHC1_HUMAN</td>\n",
       "      <td>mammal</td>\n",
       "    </tr>\n",
       "    <tr>\n",
       "      <th>3</th>\n",
       "      <td>4</td>\n",
       "      <td>POU1F1</td>\n",
       "      <td>POU class 1 homeobox 1</td>\n",
       "      <td>5449</td>\n",
       "      <td>PIT1_HUMAN</td>\n",
       "      <td>mammal</td>\n",
       "    </tr>\n",
       "    <tr>\n",
       "      <th>4</th>\n",
       "      <td>5</td>\n",
       "      <td>PROP1</td>\n",
       "      <td>PROP paired-like homeobox 1</td>\n",
       "      <td>5626</td>\n",
       "      <td>PROP1_HUMAN</td>\n",
       "      <td>mammal</td>\n",
       "    </tr>\n",
       "  </tbody>\n",
       "</table>\n",
       "</div>"
      ],
      "text/plain": [
       "   GenAge ID  symbol                                               name  \\\n",
       "0          1     GHR                            growth hormone receptor   \n",
       "1          2    GHRH                   growth hormone releasing hormone   \n",
       "2          3    SHC1  SHC (Src homology 2 domain containing) transfo...   \n",
       "3          4  POU1F1                             POU class 1 homeobox 1   \n",
       "4          5   PROP1                        PROP paired-like homeobox 1   \n",
       "\n",
       "   entrez gene id      uniprot     why  \n",
       "0            2690    GHR_HUMAN  mammal  \n",
       "1            2691   SLIB_HUMAN  mammal  \n",
       "2            6464   SHC1_HUMAN  mammal  \n",
       "3            5449   PIT1_HUMAN  mammal  \n",
       "4            5626  PROP1_HUMAN  mammal  "
      ]
     },
     "execution_count": 7,
     "metadata": {},
     "output_type": "execute_result"
    }
   ],
   "source": [
    "df.head()"
   ]
  },
  {
   "cell_type": "code",
   "execution_count": 8,
   "id": "4c8a5a9e",
   "metadata": {},
   "outputs": [
    {
     "data": {
      "text/plain": [
       "(307, 6)"
      ]
     },
     "execution_count": 8,
     "metadata": {},
     "output_type": "execute_result"
    }
   ],
   "source": [
    "df.shape"
   ]
  },
  {
   "cell_type": "code",
   "execution_count": null,
   "id": "0e171f29",
   "metadata": {},
   "outputs": [],
   "source": []
  }
 ],
 "metadata": {
  "kernelspec": {
   "display_name": "sequence-to-function",
   "language": "python",
   "name": "python3"
  },
  "language_info": {
   "codemirror_mode": {
    "name": "ipython",
    "version": 3
   },
   "file_extension": ".py",
   "mimetype": "text/x-python",
   "name": "python",
   "nbconvert_exporter": "python",
   "pygments_lexer": "ipython3",
   "version": "3.12.9"
  }
 },
 "nbformat": 4,
 "nbformat_minor": 5
}
