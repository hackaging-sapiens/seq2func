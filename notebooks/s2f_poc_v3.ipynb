{
 "cells": [
  {
   "cell_type": "code",
   "execution_count": 1,
   "id": "22911913",
   "metadata": {},
   "outputs": [],
   "source": [
    "import sys\n",
    "from pathlib import Path\n",
    "sys.path.append(str(Path.cwd().parent))"
   ]
  },
  {
   "cell_type": "code",
   "execution_count": 6,
   "id": "92a8b5f7",
   "metadata": {},
   "outputs": [],
   "source": [
    "from utils.fetch_data import fetch_uniprot_data"
   ]
  },
  {
   "cell_type": "code",
   "execution_count": 7,
   "id": "1030edf2",
   "metadata": {},
   "outputs": [],
   "source": [
    "protein_symbol = \"NRF2\""
   ]
  },
  {
   "cell_type": "markdown",
   "id": "aa0b483e",
   "metadata": {},
   "source": [
    "### Fetch UniPort Data"
   ]
  },
  {
   "cell_type": "code",
   "execution_count": 8,
   "id": "33e5378b",
   "metadata": {},
   "outputs": [],
   "source": [
    "protein_id, protein_name, protein_sequence, protein_function = fetch_uniprot_data(protein_symbol)"
   ]
  },
  {
   "cell_type": "code",
   "execution_count": 9,
   "id": "6288db44",
   "metadata": {},
   "outputs": [
    {
     "name": "stdout",
     "output_type": "stream",
     "text": [
      "protein_id: Q16236\n",
      "protein_name: Nuclear factor erythroid 2-related factor 2\n",
      "protein_sequence: MMDLELPPPGLPSQQDMDLIDILWRQDIDLGVSREVFDFSQRRKEYELEKQKKLEKERQEQLQKEQEKAFFAQLQLDEETGEFLPIQPAQHIQSETSGSANYSQVAHIPKSDALYFDDCMQLLAQTFPFVDDNEVSSATFQSLVPDIPGHIESPVFIATNQAQSPETSVAQVAPVDLDGMQQDIEQVWEELLSIPELQCLNIENDKLVETTMVPSPEAKLTEVDNYHFYSSIPSMEKEVGNCSPHFLNAFEDSFSSILSTEDPNQLTVNSLNSDATVNTDFGDEFYSAFIAEPSISNSMPSPATLSHSLSELLNGPIDVSDLSLCKAFNQNHPESTAEFNDSDSGISLNTSPSVASPEHSVESSSYGDTLLGLSDSEVEELDSAPGSVKQNGPKTPVHSSGDMVQPLSPSQGQSTHVHDAQCENTPEKELPVSPGHRKTPFTKDKHSSRLEAHLTRDELRAKALHIPFPVEKIINLPVVDFNEMMSKEQFNEAQLALIRDIRRRGKNKVAAQNCRKRKLENIVELEQDLDHLKDEKEKLLKEKGENDKSLHLLKKQLSTLYLEVFSMLRDEDGKPYSPSEYSLQQTRDGNVFLVPKSKKPDVKKN\n",
      "protein_function: Transcription factor that plays a key role in the response to oxidative stress: binds to antioxidant response (ARE) elements present in the promoter region of many cytoprotective genes, such as phase 2 detoxifying enzymes, and promotes their expression, thereby neutralizing reactive electrophiles (PubMed:11035812, PubMed:19489739, PubMed:29018201, PubMed:31398338). In normal conditions, ubiquitinated and degraded in the cytoplasm by the BCR(KEAP1) complex (PubMed:11035812, PubMed:15601839, PubMed:29018201). In response to oxidative stress, electrophile metabolites inhibit activity of the BCR(KEAP1) complex, promoting nuclear accumulation of NFE2L2/NRF2, heterodimerization with one of the small Maf proteins and binding to ARE elements of cytoprotective target genes (PubMed:19489739, PubMed:29590092). The NFE2L2/NRF2 pathway is also activated in response to selective autophagy: autophagy promotes interaction between KEAP1 and SQSTM1/p62 and subsequent inactivation of the BCR(KEAP1) complex, leading to NFE2L2/NRF2 nuclear accumulation and expression of cytoprotective genes (PubMed:20452972). The NFE2L2/NRF2 pathway is also activated during the unfolded protein response (UPR), contributing to redox homeostasis and cell survival following endoplasmic reticulum stress (By similarity). May also be involved in the transcriptional activation of genes of the beta-globin cluster by mediating enhancer activity of hypersensitive site 2 of the beta-globin locus control region (PubMed:7937919). Also plays an important role in the regulation of the innate immune response and antiviral cytosolic DNA sensing. It is a critical regulator of the innate immune response and survival during sepsis by maintaining redox homeostasis and restraint of the dysregulation of pro-inflammatory signaling pathways like MyD88-dependent and -independent and TNF-alpha signaling (By similarity). Suppresses macrophage inflammatory response by blocking pro-inflammatory cytokine transcription and the induction of IL6 (By similarity). Binds to the proximity of pro-inflammatory genes in macrophages and inhibits RNA Pol II recruitment. The inhibition is independent of the NRF2-binding motif and reactive oxygen species level (By similarity). Represses antiviral cytosolic DNA sensing by suppressing the expression of the adapter protein STING1 and decreasing responsiveness to STING1 agonists while increasing susceptibility to infection with DNA viruses (PubMed:30158636). Once activated, limits the release of pro-inflammatory cytokines in response to human coronavirus SARS-CoV-2 infection and to virus-derived ligands through a mechanism that involves inhibition of IRF3 dimerization. Also inhibits both SARS-CoV-2 replication, as well as the replication of several other pathogenic viruses including Herpes Simplex Virus-1 and-2, Vaccinia virus, and Zika virus through a type I interferon (IFN)-independent mechanism (PubMed:33009401)\n"
     ]
    }
   ],
   "source": [
    "print(f\"protein_id: {protein_id}\")\n",
    "print(f\"protein_name: {protein_name}\")\n",
    "print(f\"protein_sequence: {protein_sequence}\")\n",
    "print(f\"protein_function: {protein_function}\")\n"
   ]
  },
  {
   "cell_type": "code",
   "execution_count": null,
   "id": "9afb975b",
   "metadata": {},
   "outputs": [],
   "source": []
  }
 ],
 "metadata": {
  "kernelspec": {
   "display_name": ".venv",
   "language": "python",
   "name": "python3"
  },
  "language_info": {
   "codemirror_mode": {
    "name": "ipython",
    "version": 3
   },
   "file_extension": ".py",
   "mimetype": "text/x-python",
   "name": "python",
   "nbconvert_exporter": "python",
   "pygments_lexer": "ipython3",
   "version": "3.12.9"
  }
 },
 "nbformat": 4,
 "nbformat_minor": 5
}
