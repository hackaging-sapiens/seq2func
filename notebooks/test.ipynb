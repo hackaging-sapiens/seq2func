{
 "cells": [
  {
   "cell_type": "markdown",
   "metadata": {},
   "source": [
    "# Test Query Expansion\n",
    "\n",
    "This notebook tests whether our expanded PubMed queries can capture all the test case articles.\n",
    "\n",
    "## Test Cases:\n",
    "1. **NRF2**: PMC7234996 (Neoaves KEAP1), PMID:28612944 (SKN-1 C.elegans)\n",
    "2. **SOX2**: SuperSOX study\n",
    "3. **APOE**: APOE2/3/4 variants and longevity\n",
    "4. **OCT4**: OCT6→OCT4 conversion (EMBR study)"
   ]
  },
  {
   "cell_type": "code",
   "execution_count": 1,
   "metadata": {},
   "outputs": [],
   "source": [
    "import sys\n",
    "from pathlib import Path\n",
    "\n",
    "project_root = Path.cwd().parent\n",
    "sys.path.append(str(project_root))\n",
    "\n",
    "from src.tools.pubmed import PubMed\n",
    "import json\n",
    "\n",
    "# Initialize PubMed client\n",
    "pubmed = PubMed()"
   ]
  },
  {
   "cell_type": "markdown",
   "metadata": {},
   "source": [
    "## TEST CASE 1: NRF2\n",
    "\n",
    "Expected to find:\n",
    "- PMID32424161: Neoaves KEAP1 mutation → over-active NRF2\n",
    "- PMID:28612944: SKN-1 (NRF2 ortholog) increases lifespan in C.elegans"
   ]
  },
  {
   "cell_type": "code",
   "execution_count": 2,
   "metadata": {},
   "outputs": [
    {
     "name": "stdout",
     "output_type": "stream",
     "text": [
      "NRF2 Query:\n",
      "NRF2[TIAB] AND (aging[TIAB] OR longevity[TIAB] OR lifespan[TIAB] OR healthspan[TIAB] OR life span[TIAB] OR centenarian[TIAB] OR survival[TIAB] OR senescence[TIAB] OR age-related[TIAB]) NOT (Review[PT]) AND hasabstract\n"
     ]
    }
   ],
   "source": [
    "# Build expanded query for NRF2\n",
    "nrf2_query = pubmed.build_search_query(\"NRF2\")\n",
    "print(\"NRF2 Query:\")\n",
    "print(nrf2_query)"
   ]
  },
  {
   "cell_type": "code",
   "execution_count": 8,
   "metadata": {},
   "outputs": [
    {
     "name": "stdout",
     "output_type": "stream",
     "text": [
      "Found 130 papers for NRF2\n"
     ]
    }
   ],
   "source": [
    "# Search for NRF2 papers\n",
    "nrf2_pmids = pubmed.search(nrf2_query, 130)\n",
    "print(f\"Found {len(nrf2_pmids)} papers for NRF2\")"
   ]
  },
  {
   "cell_type": "code",
   "execution_count": 9,
   "metadata": {},
   "outputs": [
    {
     "name": "stdout",
     "output_type": "stream",
     "text": [
      "Checking for target NRF2 papers:\n",
      "position:119\n",
      "✓ FOUND: PMID 28612944\n",
      "✗ MISSING: PMID 32424161\n"
     ]
    }
   ],
   "source": [
    "# Check if our target papers are in the results\n",
    "target_nrf2 = [\"28612944\", \"32424161\"]\n",
    "\n",
    "print(\"Checking for target NRF2 papers:\")\n",
    "for target in target_nrf2:\n",
    "    if target in nrf2_pmids:\n",
    "        print(f\"position:{nrf2_pmids.index(target)}\")\n",
    "        print(f\"✓ FOUND: PMID {target}\")\n",
    "    else:\n",
    "        print(f\"✗ MISSING: PMID {target}\")"
   ]
  },
  {
   "cell_type": "code",
   "execution_count": 10,
   "metadata": {},
   "outputs": [
    {
     "name": "stdout",
     "output_type": "stream",
     "text": [
      "Fetching metadata for 130 NRF2 papers...\n",
      "✓ Fetched 130 papers\n",
      "\n",
      "Screening papers for sequence→function→aging links...\n",
      "Screening 130 NRF2 papers for sequence→function→aging links...\n"
     ]
    },
    {
     "name": "stderr",
     "output_type": "stream",
     "text": [
      "Screening: 100%|██████████| 130/130 [06:41<00:00,  3.09s/it]"
     ]
    },
    {
     "name": "stdout",
     "output_type": "stream",
     "text": [
      "\n",
      "================================================================================\n",
      "TOP 10 PAPERS BY RELEVANCE SCORE\n",
      "================================================================================\n",
      "\n",
      "1. PMID: 27259148 | Score: 0.90 | Year: 2016\n",
      "   Title: Repression of the Antioxidant NRF2 Pathway in Premature Aging....\n",
      "   Reasoning: The paper provides strong evidence for a sequence change (progerin mutation) leading to a functional change (NRF2 sequestration and impaired transcriptional activity) and a measurable aging-related phenotypic effect (premature aging defects in HGPS), with clear mechanistic details and quantitative outcomes.\n",
      "\n",
      "2. PMID: 40999940 | Score: 0.90 | Year: 2025\n",
      "   Title: Enhancing Late-Life Survival and Mobility via Mitohormesis by Reducing Mitochondrial Calcium Levels....\n",
      "   Reasoning: The paper demonstrates a causal chain from genetic knockdown of mcu-1 (sequence change) to reduced mitochondrial calcium levels (functional change) to extended lifespan and improved mobility (aging-related phenotypic effect), with a clear mechanistic explanation involving ROS-mediated signaling and antioxidant pathways.\n",
      "\n",
      "3. PMID: 37751046 | Score: 0.90 | Year: 2023\n",
      "   Title: Comparative analysis of the molecular and physiological consequences of constitutive SKN-1 activatio...\n",
      "   Reasoning: The paper provides experimental evidence of a gain-of-function mutation in the xrep-4 locus leading to constitutive activation of SKN-1, resulting in distinct physiological consequences on healthspan, stress resistance, and lifespan, thereby establishing a clear sequence → function → phenotype link.\n",
      "\n",
      "4. PMID: 37264926 | Score: 0.80 | Year: 2023\n",
      "   Title: An ERK5-NRF2 Axis Mediates Senescence-Associated Stemness and Atherosclerosis....\n",
      "   Reasoning: The paper describes a specific sequence-level modification (ERK5 S496A knock-in mouse model) leading to functional changes (inhibition of atherosclerosis, altered senescence-associated stemness) and a phenotypic outcome (reduced atherosclerosis), meeting two of the three criteria with a clear mechanistic explanation.\n",
      "\n",
      "5. PMID: 33334122 | Score: 0.80 | Year: 2021\n",
      "   Title: Klotho Deficiency Causes Heart Aging via Impairing the Nrf2-GR Pathway....\n",
      "   Reasoning: The study establishes a link between Klotho deficiency (a genetic/sequence-level modification) and cardiac aging through the impairment of the Nrf2-GR pathway, demonstrating a functional change leading to a measurable aging-related phenotypic effect (heart aging and failure).\n",
      "\n",
      "6. PMID: 38987256 | Score: 0.80 | Year: 2024\n",
      "   Title: Regulatory mechanism of cold-inducible diapause in Caenorhabditis elegans....\n",
      "   Reasoning: The paper describes a specific sequence change (premature stop codon in hsf-1) leading to a functional change (entry into cold-inducible diapause) and a phenotypic outcome (extended lifespan), meeting two of the three links with clear mechanistic details.\n",
      "\n",
      "7. PMID: 38915913 | Score: 0.80 | Year: 2024\n",
      "   Title: KEAP1-NRF2 system regulates age-related spermatogenesis dysfunction....\n",
      "   Reasoning: The study establishes a link between the KEAP1-NRF2 system and age-related spermatogenesis dysfunction, showing that KEAP1 inhibition improves sperm count in aging mice and identifying a NRF2 SNP associated with non-obstructive azoospermia in humans, thus connecting sequence-level changes to functional and phenotypic outcomes related to aging.\n",
      "\n",
      "8. PMID: 39805029 | Score: 0.80 | Year: 2025\n",
      "   Title: Bacteroides Fragilis Transplantation Reverses Reproductive Senescence by Transporting Extracellular ...\n",
      "   Reasoning: The paper demonstrates a causal chain where Bacteroides fragilis transplantation leads to the transport of extracellular vesicles containing miR-1246, which in turn reduces oxidative stress and improves reproductive senescence by activating Nrf2, thus linking a specific microbiota intervention to a functional change and an aging-related phenotypic effect.\n",
      "\n",
      "9. PMID: 34811857 | Score: 0.80 | Year: 2021\n",
      "   Title: Cisd2 slows down liver aging and attenuates age-related metabolic dysfunction in male mice....\n",
      "   Reasoning: The paper demonstrates a causal link between Cisd2 expression and liver aging, showing that high levels of Cisd2 attenuate age-related metabolic dysfunction and promote a youthful transcriptomic profile, although it lacks a specific sequence-level modification description.\n",
      "\n",
      "10. PMID: 38097593 | Score: 0.80 | Year: 2023\n",
      "   Title: On the benefits of the tryptophan metabolite 3-hydroxyanthranilic acid in Caenorhabditis elegans and...\n",
      "   Reasoning: The paper demonstrates a causal chain from sequence-level modification (knockdown of haao-1 gene) to functional alteration (increased 3HAA levels, activation of Nrf2/SKN-1 oxidative stress response) to phenotypic outcome (lifespan extension, delayed age-associated health decline) in C. elegans, with supporting evidence in mouse models.\n",
      "\n",
      "================================================================================\n",
      "TARGET PAPER RANKINGS\n",
      "================================================================================\n",
      "\n",
      "✓ PMID 28612944: Rank #20 | Score: 0.80\n",
      "  Reasoning: The paper provides evidence for a functional change (SKN-1 activation) leading to a phenotypic outcome (increased lifespan and resistance to oxidative stress) in C. elegans, meeting two of the three criteria, and although it doesn't explicitly describe a sequence-level modification, it implies a mechanistic link between SKN-1 function and aging-related phenotypes.\n"
     ]
    },
    {
     "name": "stderr",
     "output_type": "stream",
     "text": [
      "\n"
     ]
    }
   ],
   "source": [
    "# Fetch metadata for all NRF2 papers\n",
    "print(\"Fetching metadata for 130 NRF2 papers...\")\n",
    "nrf2_papers = pubmed.fetch(nrf2_pmids)\n",
    "print(f\"✓ Fetched {len(nrf2_papers)} papers\\n\")\n",
    "\n",
    "# Initialize screening\n",
    "from src.tools.screening import Screening\n",
    "from tqdm import tqdm\n",
    "\n",
    "screening = Screening()\n",
    "\n",
    "# Screen all papers with progress bar\n",
    "print(\"Screening papers for sequence→function→aging links...\")\n",
    "results = []\n",
    "\n",
    "# Add this BEFORE the screening loop\n",
    "import json as json_module\n",
    "\n",
    "# Screen all 130 NRF2 papers\n",
    "from tqdm import tqdm\n",
    "\n",
    "print(\"Screening 130 NRF2 papers for sequence→function→aging links...\")\n",
    "results = []\n",
    "\n",
    "for paper in tqdm(nrf2_papers, desc=\"Screening\"):\n",
    "    result = screening.screen_paper(\n",
    "        title=paper.get(\"title\", \"\"),\n",
    "        abstract=paper.get(\"abstract\", \"\"),\n",
    "        keywords=paper.get(\"mesh_terms\", [])\n",
    "    )\n",
    "    # Add paper metadata to result\n",
    "    result[\"pmid\"] = paper.get(\"pmid\", \"\")\n",
    "    result[\"title\"] = paper.get(\"title\", \"\")\n",
    "    result[\"year\"] = paper.get(\"year\", \"\")\n",
    "    results.append(result)\n",
    "\n",
    "# Sort by score (highest first)\n",
    "results_sorted = sorted(results, key=lambda x: x[\"score\"], reverse=True)\n",
    "\n",
    "# Display top 10\n",
    "print(\"\\n\" + \"=\"*80)\n",
    "print(\"TOP 10 PAPERS BY RELEVANCE SCORE\")\n",
    "print(\"=\"*80 + \"\\n\")\n",
    "\n",
    "for i, paper in enumerate(results_sorted[:10], 1):\n",
    "    print(f\"{i}. PMID: {paper['pmid']} | Score: {paper['score']:.2f} | Year: {paper['year']}\")\n",
    "    print(f\"   Title: {paper['title'][:100]}...\")\n",
    "    print(f\"   Reasoning: {paper['reasoning']}\")\n",
    "    print()\n",
    "\n",
    "# Check if target papers made it to top rankings\n",
    "print(\"=\"*80)\n",
    "print(\"TARGET PAPER RANKINGS\")\n",
    "print(\"=\"*80 + \"\\n\")\n",
    "\n",
    "target_nrf2 = [\"28612944\"] \n",
    "for target_pmid in target_nrf2:\n",
    "    for rank, paper in enumerate(results_sorted, 1):\n",
    "        if paper[\"pmid\"] == target_pmid:\n",
    "            print(f\"✓ PMID {target_pmid}: Rank #{rank} | Score: {paper['score']:.2f}\")\n",
    "            print(f\"  Reasoning: {paper['reasoning']}\")\n",
    "            break"
   ]
  },
  {
   "cell_type": "code",
   "execution_count": 6,
   "metadata": {},
   "outputs": [
    {
     "name": "stdout",
     "output_type": "stream",
     "text": [
      "Original:\n",
      "'```json\\n{\\n  \"relevant\": true,\\n  \"score\": 0.9,\\n  \"reasoning\": \"Test\"\\n}\\n```'\n",
      "\n",
      "After stripping:\n",
      "'{\\n  \"relevant\": true,\\n  \"score\": 0.9,\\n  \"reasoning\": \"Test\"\\n}'\n",
      "\n",
      "✓ Successfully parsed!\n",
      "{'relevant': True, 'score': 0.9, 'reasoning': 'Test'}\n"
     ]
    }
   ],
   "source": [
    "# Test the stripping logic directly\n",
    "test_content = '```json\\n{\\n  \"relevant\": true,\\n  \"score\": 0.9,\\n  \"reasoning\": \"Test\"\\n}\\n```'\n",
    "\n",
    "print(\"Original:\")\n",
    "print(repr(test_content))\n",
    "\n",
    "# Apply the same stripping logic\n",
    "content = test_content.strip()\n",
    "\n",
    "if content.startswith(\"```\"):\n",
    "    lines = content.split(\"\\n\")\n",
    "    if lines[0].startswith(\"```\"):\n",
    "        lines = lines[1:]\n",
    "    if lines and lines[-1].strip() == \"```\":\n",
    "        lines = lines[:-1]\n",
    "    content = \"\\n\".join(lines).strip()\n",
    "\n",
    "print(\"\\nAfter stripping:\")\n",
    "print(repr(content))\n",
    "\n",
    "# Try to parse\n",
    "import json\n",
    "try:\n",
    "    result = json.loads(content)\n",
    "    print(\"\\n✓ Successfully parsed!\")\n",
    "    print(result)\n",
    "except Exception as e:\n",
    "    print(f\"\\n✗ Failed: {e}\")"
   ]
  },
  {
   "cell_type": "markdown",
   "metadata": {},
   "source": [
    "## TEST CASE 2: SOX2\n",
    "\n",
    "Expected to find:\n",
    "- PMID38141611. Modified SOX2 with enhanced reprogramming capabilities"
   ]
  },
  {
   "cell_type": "code",
   "execution_count": null,
   "metadata": {},
   "outputs": [],
   "source": [
    "# Build expanded query for SOX2 (with reprogramming terms)\n",
    "sox2_query = pubmed.build_search_query(\"SOX2\", include_reprogramming=True)\n",
    "print(\"SOX2 Query (with reprogramming):\")\n",
    "print(sox2_query)"
   ]
  },
  {
   "cell_type": "code",
   "execution_count": null,
   "metadata": {},
   "outputs": [],
   "source": [
    "# Search for SOX2 papers\n",
    "sox2_pmids = pubmed.search(sox2_query, 100)\n",
    "print(f\"Found {len(sox2_pmids)} papers for SOX2\")"
   ]
  },
  {
   "cell_type": "code",
   "execution_count": null,
   "metadata": {},
   "outputs": [],
   "source": [
    "# Check if our target papers are in the results\n",
    "target_sox2 = [\"38141611\"]\n",
    "\n",
    "print(\"Checking for target sox2 papers:\")\n",
    "for target in target_sox2:\n",
    "    if target in sox2_pmids:\n",
    "        print(f\"position:{sox2_pmids.index(target)}\")\n",
    "        print(f\"✓ FOUND: PMID {target}\")\n",
    "    else:\n",
    "        print(f\"✗ MISSING: PMID {target}\")"
   ]
  },
  {
   "cell_type": "markdown",
   "metadata": {},
   "source": [
    "## TEST CASE 3: APOE\n",
    "\n",
    "Expected to find:\n",
    "- APOE2: protective variant associated with longevity\n",
    "- APOE3: common neutral variant\n",
    "- APOE4: risk variant for Alzheimer's and reduced longevity"
   ]
  },
  {
   "cell_type": "markdown",
   "metadata": {},
   "source": [
    "## TEST CASE 4: OCT4/OCT6\n",
    "\n",
    "Expected to find:\n",
    "- EMBR study(PMID28007765): Converting OCT6 into reprogramming factor through sequence modifications"
   ]
  },
  {
   "cell_type": "code",
   "execution_count": null,
   "metadata": {},
   "outputs": [],
   "source": [
    "# Build expanded query for OCT6 (with reprogramming terms)\n",
    "oct4_query = pubmed.build_search_query(\"OCT4\", include_reprogramming=True)\n",
    "print(\"OCT4 Query (with reprogramming):\")\n",
    "print(oct4_query)"
   ]
  },
  {
   "cell_type": "code",
   "execution_count": null,
   "metadata": {},
   "outputs": [],
   "source": [
    "# Search for OCT4 papers\n",
    "oct4_pmids = pubmed.search(oct4_query, 800)\n",
    "print(f\"Found {len(oct4_pmids)} papers for OCT4\")"
   ]
  },
  {
   "cell_type": "code",
   "execution_count": null,
   "metadata": {},
   "outputs": [],
   "source": [
    "# Check if our target papers are in the results\n",
    "target_oct4 = [\"28007765\"]\n",
    "\n",
    "print(\"Checking for target target_oct6 papers:\")\n",
    "for target in target_oct4:\n",
    "    if target in oct4_pmids:\n",
    "        print(f\"✓ FOUND: PMID {target}\")\n",
    "        print(f\"position:{oct4_pmids.index(target)}\")\n",
    "    else:\n",
    "        print(f\"✗ MISSING: PMID {target}\")"
   ]
  },
  {
   "cell_type": "markdown",
   "metadata": {},
   "source": [
    "## All genes results"
   ]
  },
  {
   "cell_type": "code",
   "execution_count": 3,
   "metadata": {},
   "outputs": [],
   "source": [
    "import pandas as pd\n",
    "df = pd.read_csv(\"../data/all_genes_results.csv\")"
   ]
  },
  {
   "cell_type": "code",
   "execution_count": 6,
   "metadata": {},
   "outputs": [
    {
     "data": {
      "text/html": [
       "<div>\n",
       "<style scoped>\n",
       "    .dataframe tbody tr th:only-of-type {\n",
       "        vertical-align: middle;\n",
       "    }\n",
       "\n",
       "    .dataframe tbody tr th {\n",
       "        vertical-align: top;\n",
       "    }\n",
       "\n",
       "    .dataframe thead th {\n",
       "        text-align: right;\n",
       "    }\n",
       "</style>\n",
       "<table border=\"1\" class=\"dataframe\">\n",
       "  <thead>\n",
       "    <tr style=\"text-align: right;\">\n",
       "      <th></th>\n",
       "      <th>gene_id</th>\n",
       "      <th>gene_symbol</th>\n",
       "      <th>pmid</th>\n",
       "      <th>title</th>\n",
       "      <th>year</th>\n",
       "      <th>journal</th>\n",
       "      <th>score</th>\n",
       "      <th>relevant</th>\n",
       "      <th>reasoning</th>\n",
       "      <th>search_date</th>\n",
       "    </tr>\n",
       "  </thead>\n",
       "  <tbody>\n",
       "    <tr>\n",
       "      <th>0</th>\n",
       "      <td>4780</td>\n",
       "      <td>NRF2</td>\n",
       "      <td>27259148</td>\n",
       "      <td>Repression of the Antioxidant NRF2 Pathway in ...</td>\n",
       "      <td>2016</td>\n",
       "      <td>Cell</td>\n",
       "      <td>0.9</td>\n",
       "      <td>True</td>\n",
       "      <td>The paper provides strong evidence for a seque...</td>\n",
       "      <td>2025-10-16</td>\n",
       "    </tr>\n",
       "    <tr>\n",
       "      <th>1</th>\n",
       "      <td>4780</td>\n",
       "      <td>NRF2</td>\n",
       "      <td>40999940</td>\n",
       "      <td>Enhancing Late-Life Survival and Mobility via ...</td>\n",
       "      <td>2025</td>\n",
       "      <td>Aging Cell</td>\n",
       "      <td>0.9</td>\n",
       "      <td>True</td>\n",
       "      <td>The paper demonstrates a causal chain from gen...</td>\n",
       "      <td>2025-10-16</td>\n",
       "    </tr>\n",
       "    <tr>\n",
       "      <th>2</th>\n",
       "      <td>4780</td>\n",
       "      <td>NRF2</td>\n",
       "      <td>37751046</td>\n",
       "      <td>Comparative analysis of the molecular and phys...</td>\n",
       "      <td>2023</td>\n",
       "      <td>Geroscience</td>\n",
       "      <td>0.9</td>\n",
       "      <td>True</td>\n",
       "      <td>The paper provides experimental evidence of a ...</td>\n",
       "      <td>2025-10-16</td>\n",
       "    </tr>\n",
       "    <tr>\n",
       "      <th>3</th>\n",
       "      <td>4780</td>\n",
       "      <td>NRF2</td>\n",
       "      <td>28272406</td>\n",
       "      <td>O-GlcNAcylation of SKN-1 modulates the lifespa...</td>\n",
       "      <td>2017</td>\n",
       "      <td>Sci Rep</td>\n",
       "      <td>0.9</td>\n",
       "      <td>True</td>\n",
       "      <td>The paper provides strong evidence for a seque...</td>\n",
       "      <td>2025-10-16</td>\n",
       "    </tr>\n",
       "    <tr>\n",
       "      <th>4</th>\n",
       "      <td>4780</td>\n",
       "      <td>NRF2</td>\n",
       "      <td>34561453</td>\n",
       "      <td>A PTEN variant uncouples longevity from impair...</td>\n",
       "      <td>2021</td>\n",
       "      <td>Nat Commun</td>\n",
       "      <td>0.9</td>\n",
       "      <td>True</td>\n",
       "      <td>The paper provides strong evidence for a seque...</td>\n",
       "      <td>2025-10-16</td>\n",
       "    </tr>\n",
       "  </tbody>\n",
       "</table>\n",
       "</div>"
      ],
      "text/plain": [
       "   gene_id gene_symbol      pmid  \\\n",
       "0     4780        NRF2  27259148   \n",
       "1     4780        NRF2  40999940   \n",
       "2     4780        NRF2  37751046   \n",
       "3     4780        NRF2  28272406   \n",
       "4     4780        NRF2  34561453   \n",
       "\n",
       "                                               title  year      journal  \\\n",
       "0  Repression of the Antioxidant NRF2 Pathway in ...  2016         Cell   \n",
       "1  Enhancing Late-Life Survival and Mobility via ...  2025   Aging Cell   \n",
       "2  Comparative analysis of the molecular and phys...  2023  Geroscience   \n",
       "3  O-GlcNAcylation of SKN-1 modulates the lifespa...  2017      Sci Rep   \n",
       "4  A PTEN variant uncouples longevity from impair...  2021   Nat Commun   \n",
       "\n",
       "   score  relevant                                          reasoning  \\\n",
       "0    0.9      True  The paper provides strong evidence for a seque...   \n",
       "1    0.9      True  The paper demonstrates a causal chain from gen...   \n",
       "2    0.9      True  The paper provides experimental evidence of a ...   \n",
       "3    0.9      True  The paper provides strong evidence for a seque...   \n",
       "4    0.9      True  The paper provides strong evidence for a seque...   \n",
       "\n",
       "  search_date  \n",
       "0  2025-10-16  \n",
       "1  2025-10-16  \n",
       "2  2025-10-16  \n",
       "3  2025-10-16  \n",
       "4  2025-10-16  "
      ]
     },
     "execution_count": 6,
     "metadata": {},
     "output_type": "execute_result"
    }
   ],
   "source": [
    "df.head()"
   ]
  },
  {
   "cell_type": "code",
   "execution_count": 5,
   "metadata": {},
   "outputs": [],
   "source": [
    "test_cases = {\n",
    "    \"NRF2\": [\"28612944\", \"32424161\"],\n",
    "    \"SOX2\": [\"38141611\"],\n",
    "    \"OCT4\": [\"28007765\"]\n",
    "}"
   ]
  },
  {
   "cell_type": "code",
   "execution_count": null,
   "metadata": {},
   "outputs": [],
   "source": [
    "gene_symbols = df['gene_symbol'].unique()"
   ]
  },
  {
   "cell_type": "code",
   "execution_count": 10,
   "metadata": {},
   "outputs": [
    {
     "name": "stdout",
     "output_type": "stream",
     "text": [
      "NRF2 test case MISSING: PMID 28612944\n",
      "NRF2 test case MISSING: PMID 32424161\n",
      "OCT4 test case FOUND: PMID 28007765 (Rank #6)\n",
      "SOX2 test case FOUND: PMID 38141611 (Rank #1)\n"
     ]
    }
   ],
   "source": [
    "for gene in gene_symbols:\n",
    "    if gene in test_cases:\n",
    "        gene_pmids = df[df['gene_symbol'] == gene]['pmid'].astype(str).tolist()\n",
    "\n",
    "        for test_pmid in test_cases[gene]:\n",
    "            if test_pmid in gene_pmids:\n",
    "                rank = gene_pmids.index(test_pmid) + 1\n",
    "                print(f\"{gene} test case FOUND: PMID {test_pmid} (Rank #{rank})\")\n",
    "            else:\n",
    "                print(f\"{gene} test case MISSING: PMID {test_pmid}\")\n"
   ]
  }
 ],
 "metadata": {
  "kernelspec": {
   "display_name": ".venv",
   "language": "python",
   "name": "python3"
  },
  "language_info": {
   "codemirror_mode": {
    "name": "ipython",
    "version": 3
   },
   "file_extension": ".py",
   "mimetype": "text/x-python",
   "name": "python",
   "nbconvert_exporter": "python",
   "pygments_lexer": "ipython3",
   "version": "3.12.11"
  }
 },
 "nbformat": 4,
 "nbformat_minor": 4
}
