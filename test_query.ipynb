{
 "cells": [
  {
   "cell_type": "markdown",
   "metadata": {},
   "source": [
    "# Test Query Expansion\n",
    "\n",
    "This notebook tests whether our expanded PubMed queries can capture all the test case articles.\n",
    "\n",
    "## Test Cases:\n",
    "1. **NRF2**: PMC7234996 (Neoaves KEAP1), PMID:28612944 (SKN-1 C.elegans)\n",
    "2. **SOX2**: SuperSOX study\n",
    "3. **APOE**: APOE2/3/4 variants and longevity\n",
    "4. **OCT4**: OCT6→OCT4 conversion (EMBR study)"
   ]
  },
  {
   "cell_type": "code",
   "execution_count": 2,
   "metadata": {},
   "outputs": [],
   "source": [
    "# Setup\n",
    "import sys\n",
    "sys.path.append('.')\n",
    "\n",
    "from src.tools.pubmed import PubMed\n",
    "import json\n",
    "\n",
    "# Initialize PubMed client\n",
    "pubmed = PubMed()"
   ]
  },
  {
   "cell_type": "markdown",
   "metadata": {},
   "source": [
    "## TEST CASE 1: NRF2\n",
    "\n",
    "Expected to find:\n",
    "- PMID32424161: Neoaves KEAP1 mutation → over-active NRF2\n",
    "- PMID:28612944: SKN-1 (NRF2 ortholog) increases lifespan in C.elegans"
   ]
  },
  {
   "cell_type": "code",
   "execution_count": 3,
   "metadata": {},
   "outputs": [
    {
     "name": "stdout",
     "output_type": "stream",
     "text": [
      "NRF2 Query:\n",
      "NRF2[TIAB] AND (aging[TIAB] OR longevity[TIAB] OR lifespan[TIAB] OR healthspan[TIAB] OR life span[TIAB] OR centenarian[TIAB] OR survival[TIAB] OR senescence[TIAB] OR age-related[TIAB]) NOT (Review[PT]) AND hasabstract\n"
     ]
    }
   ],
   "source": [
    "# Build expanded query for NRF2\n",
    "nrf2_query = pubmed.build_search_query(\"NRF2\")\n",
    "print(\"NRF2 Query:\")\n",
    "print(nrf2_query)"
   ]
  },
  {
   "cell_type": "code",
   "execution_count": 4,
   "metadata": {},
   "outputs": [
    {
     "name": "stdout",
     "output_type": "stream",
     "text": [
      "Found 500 papers for NRF2\n"
     ]
    }
   ],
   "source": [
    "# Search for NRF2 papers\n",
    "nrf2_pmids = pubmed.search(nrf2_query, 500)\n",
    "print(f\"Found {len(nrf2_pmids)} papers for NRF2\")"
   ]
  },
  {
   "cell_type": "code",
   "execution_count": 5,
   "metadata": {},
   "outputs": [
    {
     "name": "stdout",
     "output_type": "stream",
     "text": [
      "Checking for target NRF2 papers:\n",
      "position:119\n",
      "✓ FOUND: PMID 28612944\n",
      "position:461\n",
      "✓ FOUND: PMID 32424161\n"
     ]
    }
   ],
   "source": [
    "# Check if our target papers are in the results\n",
    "target_nrf2 = [\"28612944\", \"32424161\"]\n",
    "\n",
    "print(\"Checking for target NRF2 papers:\")\n",
    "for target in target_nrf2:\n",
    "    if target in nrf2_pmids:\n",
    "        print(f\"position:{nrf2_pmids.index(target)}\")\n",
    "        print(f\"✓ FOUND: PMID {target}\")\n",
    "    else:\n",
    "        print(f\"✗ MISSING: PMID {target}\")"
   ]
  },
  {
   "cell_type": "markdown",
   "metadata": {},
   "source": [
    "## TEST CASE 2: SOX2\n",
    "\n",
    "Expected to find:\n",
    "- PMID38141611. Modified SOX2 with enhanced reprogramming capabilities"
   ]
  },
  {
   "cell_type": "code",
   "execution_count": 6,
   "metadata": {},
   "outputs": [
    {
     "name": "stdout",
     "output_type": "stream",
     "text": [
      "SOX2 Query (with reprogramming):\n",
      "SOX2[TIAB] AND (aging[TIAB] OR longevity[TIAB] OR lifespan[TIAB] OR healthspan[TIAB] OR life span[TIAB] OR centenarian[TIAB] OR survival[TIAB] OR senescence[TIAB] OR age-related[TIAB] OR reprogramming[TIAB] OR cellular reprogramming[TIAB] OR Yamanaka factors[TIAB]) NOT (Review[PT]) AND hasabstract\n"
     ]
    }
   ],
   "source": [
    "# Build expanded query for SOX2 (with reprogramming terms)\n",
    "sox2_query = pubmed.build_search_query(\"SOX2\", include_reprogramming=True)\n",
    "print(\"SOX2 Query (with reprogramming):\")\n",
    "print(sox2_query)"
   ]
  },
  {
   "cell_type": "code",
   "execution_count": 7,
   "metadata": {},
   "outputs": [
    {
     "name": "stdout",
     "output_type": "stream",
     "text": [
      "Found 100 papers for SOX2\n"
     ]
    }
   ],
   "source": [
    "# Search for SOX2 papers\n",
    "sox2_pmids = pubmed.search(sox2_query, 100)\n",
    "print(f\"Found {len(sox2_pmids)} papers for SOX2\")"
   ]
  },
  {
   "cell_type": "code",
   "execution_count": 8,
   "metadata": {},
   "outputs": [
    {
     "name": "stdout",
     "output_type": "stream",
     "text": [
      "Checking for target sox2 papers:\n",
      "position:4\n",
      "✓ FOUND: PMID 38141611\n"
     ]
    }
   ],
   "source": [
    "# Check if our target papers are in the results\n",
    "target_sox2 = [\"38141611\"]\n",
    "\n",
    "print(\"Checking for target sox2 papers:\")\n",
    "for target in target_sox2:\n",
    "    if target in sox2_pmids:\n",
    "        print(f\"position:{sox2_pmids.index(target)}\")\n",
    "        print(f\"✓ FOUND: PMID {target}\")\n",
    "    else:\n",
    "        print(f\"✗ MISSING: PMID {target}\")"
   ]
  },
  {
   "cell_type": "markdown",
   "metadata": {},
   "source": [
    "## TEST CASE 3: APOE\n",
    "\n",
    "Expected to find:\n",
    "- APOE2: protective variant associated with longevity\n",
    "- APOE3: common neutral variant\n",
    "- APOE4: risk variant for Alzheimer's and reduced longevity"
   ]
  },
  {
   "cell_type": "markdown",
   "metadata": {},
   "source": [
    "## TEST CASE 4: OCT4/OCT6\n",
    "\n",
    "Expected to find:\n",
    "- EMBR study(PMID28007765): Converting OCT6 into reprogramming factor through sequence modifications"
   ]
  },
  {
   "cell_type": "code",
   "execution_count": 9,
   "metadata": {},
   "outputs": [
    {
     "name": "stdout",
     "output_type": "stream",
     "text": [
      "OCT4 Query (with reprogramming):\n",
      "OCT4[TIAB] AND (aging[TIAB] OR longevity[TIAB] OR lifespan[TIAB] OR healthspan[TIAB] OR life span[TIAB] OR centenarian[TIAB] OR survival[TIAB] OR senescence[TIAB] OR age-related[TIAB] OR reprogramming[TIAB] OR cellular reprogramming[TIAB] OR Yamanaka factors[TIAB]) NOT (Review[PT]) AND hasabstract\n"
     ]
    }
   ],
   "source": [
    "# Build expanded query for OCT6 (with reprogramming terms)\n",
    "oct4_query = pubmed.build_search_query(\"OCT4\", include_reprogramming=True)\n",
    "print(\"OCT4 Query (with reprogramming):\")\n",
    "print(oct4_query)"
   ]
  },
  {
   "cell_type": "code",
   "execution_count": 10,
   "metadata": {},
   "outputs": [
    {
     "name": "stdout",
     "output_type": "stream",
     "text": [
      "Found 800 papers for OCT4\n"
     ]
    }
   ],
   "source": [
    "# Search for OCT4 papers\n",
    "oct4_pmids = pubmed.search(oct4_query, 800)\n",
    "print(f\"Found {len(oct4_pmids)} papers for OCT4\")"
   ]
  },
  {
   "cell_type": "code",
   "execution_count": 11,
   "metadata": {},
   "outputs": [
    {
     "name": "stdout",
     "output_type": "stream",
     "text": [
      "Checking for target target_oct6 papers:\n",
      "✓ FOUND: PMID 28007765\n",
      "position:53\n"
     ]
    }
   ],
   "source": [
    "# Check if our target papers are in the results\n",
    "target_oct4 = [\"28007765\"]\n",
    "\n",
    "print(\"Checking for target target_oct6 papers:\")\n",
    "for target in target_oct4:\n",
    "    if target in oct4_pmids:\n",
    "        print(f\"✓ FOUND: PMID {target}\")\n",
    "        print(f\"position:{oct4_pmids.index(target)}\")\n",
    "    else:\n",
    "        print(f\"✗ MISSING: PMID {target}\")"
   ]
  }
 ],
 "metadata": {
  "kernelspec": {
   "display_name": "Python 3",
   "language": "python",
   "name": "python3"
  },
  "language_info": {
   "codemirror_mode": {
    "name": "ipython",
    "version": 3
   },
   "file_extension": ".py",
   "mimetype": "text/x-python",
   "name": "python",
   "nbconvert_exporter": "python",
   "pygments_lexer": "ipython3",
   "version": "3.12.11"
  }
 },
 "nbformat": 4,
 "nbformat_minor": 4
}
