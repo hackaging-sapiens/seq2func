{
 "cells": [
  {
   "cell_type": "markdown",
   "metadata": {},
   "source": [
    "# PubMed Tools Pipeline Test\n",
    "\n",
    "This notebook tests the full pipeline: **Search → Fetch → Screen**\n",
    "\n",
    "The pipeline screens papers for sequence→function relationships using only:\n",
    "- Paper titles\n",
    "- MeSH terms (keywords)"
   ]
  },
  {
   "cell_type": "markdown",
   "metadata": {},
   "source": [
    "## Import Required Libraries"
   ]
  },
  {
   "cell_type": "code",
   "execution_count": 1,
   "metadata": {},
   "outputs": [
    {
     "name": "stdout",
     "output_type": "stream",
     "text": [
      "✓ Using model: meta-llama/Llama-3.3-70B-Instruct\n"
     ]
    }
   ],
   "source": [
    "# IMPORTANT: If you've changed the model in .env, restart the kernel before running!\n",
    "# Kernel -> Restart Kernel\n",
    "\n",
    "import json\n",
    "from src.tools.pubmed_search import search_pubmed\n",
    "from src.tools.pubmed_fetch import fetch_abstracts\n",
    "from src.tools.screening import screen_paper_by_metadata\n",
    "\n",
    "# Verify the model being used\n",
    "from src.config import NEBIUS_MODEL\n",
    "print(f\"✓ Using model: {NEBIUS_MODEL}\")"
   ]
  },
  {
   "cell_type": "markdown",
   "metadata": {},
   "source": [
    "## Configure Search Parameters"
   ]
  },
  {
   "cell_type": "code",
   "execution_count": 8,
   "metadata": {},
   "outputs": [],
   "source": [
    "# Customize these parameters\n",
    "SEARCH_QUERY = \"IGF1R aging\"\n",
    "MAX_RESULTS = 10"
   ]
  },
  {
   "cell_type": "markdown",
   "metadata": {},
   "source": [
    "## Step 1: Search PubMed"
   ]
  },
  {
   "cell_type": "code",
   "execution_count": 9,
   "metadata": {},
   "outputs": [
    {
     "name": "stdout",
     "output_type": "stream",
     "text": [
      "======================================================================\n",
      "STEP 1: Searching PubMed for 'IGF1R aging'\n",
      "======================================================================\n",
      "\n",
      "Found 10 PMIDs\n",
      "✓ Search successful! Got 10 PMIDs\n",
      "\n",
      "First 5 PMIDs: ['35857466', '16123266', '37527036', '37441495', '30026579']\n"
     ]
    }
   ],
   "source": [
    "print(\"=\" * 70)\n",
    "print(f\"STEP 1: Searching PubMed for '{SEARCH_QUERY}'\")\n",
    "print(\"=\" * 70)\n",
    "\n",
    "pmids = search_pubmed(SEARCH_QUERY, max_results=MAX_RESULTS)\n",
    "print(f\"\\nFound {len(pmids)} PMIDs\")\n",
    "\n",
    "if not pmids or pmids[0].startswith(\"Error\"):\n",
    "    print(\"\\n❌ Search failed!\")\n",
    "    raise Exception(\"Search failed\")\n",
    "\n",
    "print(f\"✓ Search successful! Got {len(pmids)} PMIDs\")\n",
    "print(f\"\\nFirst 5 PMIDs: {pmids[:5]}\")"
   ]
  },
  {
   "cell_type": "markdown",
   "metadata": {},
   "source": [
    "## Step 2: Fetch Paper Metadata"
   ]
  },
  {
   "cell_type": "code",
   "execution_count": 10,
   "metadata": {},
   "outputs": [
    {
     "name": "stdout",
     "output_type": "stream",
     "text": [
      "\n",
      "======================================================================\n",
      "STEP 2: Fetching metadata for 10 papers\n",
      "======================================================================\n",
      "✓ Fetched metadata for 10 papers\n",
      "\n",
      "----------------------------------------------------------------------\n",
      "Sample paper:\n",
      "----------------------------------------------------------------------\n",
      "PMID: 35857466\n",
      "Title: Progerin modulates the IGF-1R/Akt signaling involved in aging.\n",
      "Year: 2022\n",
      "Journal: Sci Adv\n",
      "MeSH Terms: None...\n"
     ]
    }
   ],
   "source": [
    "print(\"\\n\" + \"=\" * 70)\n",
    "print(f\"STEP 2: Fetching metadata for {len(pmids)} papers\")\n",
    "print(\"=\" * 70)\n",
    "\n",
    "# Convert list to newline-separated string (as the tool expects)\n",
    "pmid_string = \"\\n\".join(pmids)\n",
    "papers = fetch_abstracts(pmid_string)\n",
    "\n",
    "if papers and \"error\" in papers[0]:\n",
    "    print(\"\\n❌ Fetch failed!\")\n",
    "    print(papers[0][\"error\"])\n",
    "    raise Exception(\"Fetch failed\")\n",
    "\n",
    "print(f\"✓ Fetched metadata for {len(papers)} papers\")\n",
    "\n",
    "# Show a sample paper\n",
    "if papers:\n",
    "    print(\"\\n\" + \"-\" * 70)\n",
    "    print(\"Sample paper:\")\n",
    "    print(\"-\" * 70)\n",
    "    sample = papers[0]\n",
    "    print(f\"PMID: {sample['pmid']}\")\n",
    "    print(f\"Title: {sample['title']}\")\n",
    "    print(f\"Year: {sample['year']}\")\n",
    "    print(f\"Journal: {sample['journal']}\")\n",
    "    print(f\"MeSH Terms: {sample['mesh_terms'][:5] if sample['mesh_terms'] else 'None'}...\")"
   ]
  },
  {
   "cell_type": "markdown",
   "metadata": {},
   "source": [
    "## Step 3: Screen Papers Using Title + Keywords"
   ]
  },
  {
   "cell_type": "code",
   "execution_count": 11,
   "metadata": {},
   "outputs": [
    {
     "name": "stdout",
     "output_type": "stream",
     "text": [
      "\n",
      "======================================================================\n",
      "STEP 3: Screening papers using title + MeSH terms\n",
      "======================================================================\n",
      "\n",
      "Screening paper 1/10: 35857466\n",
      "  Title: Progerin modulates the IGF-1R/Akt signaling involved in aging....\n",
      "  ✓ RELEVANT (score: 0.80)\n",
      "    Reason: The title mentions a specific protein, progerin, and its involvement in aging through modulation of the IGF-1R/Akt signaling pathway, suggesting a potential SEQUENCE→PHENOTYPE link. The lack of keywords is a limitation, but the title provides sufficient indication of a link to aging research.\n",
      "\n",
      "Screening paper 2/10: 16123266\n",
      "  Title: Suppression of aging in mice by the hormone Klotho....\n",
      "  ✓ RELEVANT (score: 0.80)\n",
      "    Reason: The title and keywords suggest a link between the Klotho hormone and aging/longevity, and the presence of terms like 'genetics', 'transgenic mice', and 'recombinant proteins' imply experimental studies, making this paper relevant for SEQUENCE→PHENOTYPE links in aging research.\n",
      "\n",
      "Screening paper 3/10: 37527036\n",
      "  Title: IGFBPL1 is a master driver of microglia homeostasis and resolution of neuroinfla...\n",
      "  ✗ Not relevant (score: 0.00)\n",
      "    Reason: The title and keywords do not suggest a specific mutation/variant/domain change in a protein or gene, and there is no clear link to longevity, lifespan, or aging-related phenotypes, only disease focus.\n",
      "\n",
      "Screening paper 4/10: 37441495\n",
      "  Title: Decreased IGF1R attenuates senescence and improves function in pancreatic beta-c...\n",
      "  ✓ RELEVANT (score: 0.80)\n",
      "    Reason: The title suggests a specific modification (decreased IGF1R) that affects cellular function and senescence, implying a potential link to aging or longevity, and the keywords indicate experimental studies in animals.\n",
      "\n",
      "Screening paper 5/10: 30026579\n",
      "  Title: Reversing wrinkled skin and hair loss in mice by restoring mitochondrial functio...\n",
      "  ✓ RELEVANT (score: 0.80)\n",
      "    Reason: The title and keywords suggest a link between mitochondrial function and age-related phenotypes, such as skin aging and hair loss, and imply a potential sequence-to-phenotype connection through the mention of DNA Polymerase gamma and mitochondrial DNA genetics. The study appears to involve experimental manipulation, as indicated by the use of doxycycline, to restore mitochondrial function and observe effects on aging phenotypes.\n",
      "\n",
      "Screening paper 6/10: 36189799\n",
      "  Title: GIGYF1-disturbed IGF-1R recycling: a potential contributor to autism spectrum di...\n",
      "  ✗ Not relevant (score: 0.00)\n",
      "    Reason: The paper focuses on autism spectrum disorder without mentioning aging, longevity, or age-related phenotypes, and does not suggest a specific sequence modification linked to these traits.\n",
      "\n",
      "Screening paper 7/10: 35786404\n",
      "  Title: Spermidine overrides INSR (insulin receptor)-IGF1R (insulin-like growth factor 1...\n",
      "  ✓ RELEVANT (score: 0.80)\n",
      "    Reason: The title suggests a specific mechanism involving the insulin receptor (INSR) and insulin-like growth factor 1 receptor (IGF1R) in the context of aging and autophagy, and the keywords indicate a link to aging and age-related phenotypes, with evidence of experimental studies in animals and humans.\n",
      "\n",
      "Screening paper 8/10: 32294406\n",
      "  Title: Insulin-Like Growth Factors Are Key Regulators of T Helper 17 Regulatory T Cell ...\n",
      "  ✗ Not relevant (score: 0.00)\n",
      "    Reason: The paper focuses on autoimmunity without mentioning specific sequence modifications or links to longevity, lifespan, or aging-related phenotypes, and does not provide evidence of experimental studies on SEQUENCE→PHENOTYPE links in aging research.\n",
      "\n",
      "Screening paper 9/10: 38157252\n",
      "  Title: IGFBPL1 inhibits macrophage lipid accumulation by enhancing the activation of IG...\n",
      "  ✗ Not relevant (score: 0.20)\n",
      "    Reason: The paper focuses on atherosclerosis and lipid metabolism without explicit links to longevity, lifespan, or aging phenotypes, and does not mention specific sequence modifications or variants related to aging research.\n",
      "\n",
      "Screening paper 10/10: 37891556\n",
      "  Title: Klotho inhibits renal ox-LDL deposition via IGF-1R/RAC1/OLR1 signaling to amelio...\n",
      "  ✗ Not relevant (score: 0.20)\n",
      "    Reason: The paper focuses on diabetic kidney disease without explicit mention of aging or longevity, and the keywords do not indicate a clear link to age-related phenotypes or sequence modifications.\n",
      "\n",
      "✓ Screening complete!\n"
     ]
    }
   ],
   "source": [
    "print(\"\\n\" + \"=\" * 70)\n",
    "print(f\"STEP 3: Screening papers using title + MeSH terms\")\n",
    "print(\"=\" * 70)\n",
    "\n",
    "relevant_papers = []\n",
    "\n",
    "for i, paper in enumerate(papers, 1):\n",
    "    print(f\"\\nScreening paper {i}/{len(papers)}: {paper['pmid']}\")\n",
    "    print(f\"  Title: {paper.get('title', '')[:80]}...\")\n",
    "\n",
    "    result = screen_paper_by_metadata(\n",
    "        title=paper.get(\"title\", \"\"),\n",
    "        keywords=paper.get(\"mesh_terms\", [])\n",
    "    )\n",
    "\n",
    "    if result[\"relevant\"]:\n",
    "        relevant_papers.append({\n",
    "            **paper,\n",
    "            \"screening_score\": result[\"score\"],\n",
    "            \"screening_reasoning\": result[\"reasoning\"]\n",
    "        })\n",
    "        print(f\"  ✓ RELEVANT (score: {result['score']:.2f})\")\n",
    "        print(f\"    Reason: {result['reasoning']}\")\n",
    "    else:\n",
    "        print(f\"  ✗ Not relevant (score: {result['score']:.2f})\")\n",
    "        print(f\"    Reason: {result['reasoning']}\")\n",
    "\n",
    "print(f\"\\n✓ Screening complete!\")"
   ]
  },
  {
   "cell_type": "markdown",
   "metadata": {},
   "source": [
    "## Step 4: Display Results"
   ]
  },
  {
   "cell_type": "code",
   "execution_count": 12,
   "metadata": {},
   "outputs": [
    {
     "name": "stdout",
     "output_type": "stream",
     "text": [
      "\n",
      "======================================================================\n",
      "RESULTS: Found 5 relevant papers out of 10\n",
      "======================================================================\n",
      "\n",
      "Relevant papers:\n",
      "----------------------------------------------------------------------\n",
      "\n",
      "1. PMID: 35857466 | Score: 0.80\n",
      "   Title: Progerin modulates the IGF-1R/Akt signaling involved in aging.\n",
      "   Year: 2022 | Journal: Sci Adv\n",
      "   MeSH: None...\n",
      "   Why relevant: The title mentions a specific protein, progerin, and its involvement in aging through modulation of the IGF-1R/Akt signaling pathway, suggesting a potential SEQUENCE→PHENOTYPE link. The lack of keywords is a limitation, but the title provides sufficient indication of a link to aging research.\n",
      "\n",
      "2. PMID: 16123266 | Score: 0.80\n",
      "   Title: Suppression of aging in mice by the hormone Klotho.\n",
      "   Year: 2005 | Journal: Science\n",
      "   MeSH: Aging/genetics/*physiology, Animals, Blood Glucose/analysis, Cell Line, Cell Line, Tumor...\n",
      "   Why relevant: The title and keywords suggest a link between the Klotho hormone and aging/longevity, and the presence of terms like 'genetics', 'transgenic mice', and 'recombinant proteins' imply experimental studies, making this paper relevant for SEQUENCE→PHENOTYPE links in aging research.\n",
      "\n",
      "3. PMID: 37441495 | Score: 0.80\n",
      "   Title: Decreased IGF1R attenuates senescence and improves function in pancreatic beta-cells.\n",
      "   Year: 2023 | Journal: Front Endocrinol (Lausanne)\n",
      "   MeSH: Animals, Mice, *Diabetes Mellitus, Type 2/genetics/metabolism, Glucose/metabolism, Insulin/metabolism...\n",
      "   Why relevant: The title suggests a specific modification (decreased IGF1R) that affects cellular function and senescence, implying a potential link to aging or longevity, and the keywords indicate experimental studies in animals.\n",
      "\n",
      "4. PMID: 30026579 | Score: 0.80\n",
      "   Title: Reversing wrinkled skin and hair loss in mice by restoring mitochondrial function.\n",
      "   Year: 2018 | Journal: Cell Death Dis\n",
      "   MeSH: Alopecia/*pathology, Amino Acid Sequence, Animals, Biomarkers/metabolism, DNA Polymerase gamma/chemistry/metabolism...\n",
      "   Why relevant: The title and keywords suggest a link between mitochondrial function and age-related phenotypes, such as skin aging and hair loss, and imply a potential sequence-to-phenotype connection through the mention of DNA Polymerase gamma and mitochondrial DNA genetics. The study appears to involve experimental manipulation, as indicated by the use of doxycycline, to restore mitochondrial function and observe effects on aging phenotypes.\n",
      "\n",
      "5. PMID: 35786404 | Score: 0.80\n",
      "   Title: Spermidine overrides INSR (insulin receptor)-IGF1R (insulin-like growth factor 1 receptor)-mediated inhibition of autophagy in the aging heart.\n",
      "   Year: 2022 | Journal: Autophagy\n",
      "   MeSH: Aging, Animals, Antigens, CD, Autophagy, Autophagy-Related Protein-1 Homolog...\n",
      "   Why relevant: The title suggests a specific mechanism involving the insulin receptor (INSR) and insulin-like growth factor 1 receptor (IGF1R) in the context of aging and autophagy, and the keywords indicate a link to aging and age-related phenotypes, with evidence of experimental studies in animals and humans.\n",
      "\n",
      "======================================================================\n",
      "✓ Pipeline test completed!\n",
      "======================================================================\n"
     ]
    }
   ],
   "source": [
    "print(\"\\n\" + \"=\" * 70)\n",
    "print(f\"RESULTS: Found {len(relevant_papers)} relevant papers out of {len(papers)}\")\n",
    "print(\"=\" * 70)\n",
    "\n",
    "if relevant_papers:\n",
    "    print(\"\\nRelevant papers:\")\n",
    "    print(\"-\" * 70)\n",
    "\n",
    "    for i, paper in enumerate(relevant_papers, 1):\n",
    "        print(f\"\\n{i}. PMID: {paper['pmid']} | Score: {paper['screening_score']:.2f}\")\n",
    "        print(f\"   Title: {paper['title']}\")\n",
    "        print(f\"   Year: {paper['year']} | Journal: {paper['journal']}\")\n",
    "        print(f\"   MeSH: {', '.join(paper['mesh_terms'][:5]) if paper['mesh_terms'] else 'None'}...\")\n",
    "        print(f\"   Why relevant: {paper['screening_reasoning']}\")\n",
    "else:\n",
    "    print(\"\\n⚠️  No relevant papers found. Try a different query.\")\n",
    "\n",
    "print(\"\\n\" + \"=\" * 70)\n",
    "print(\"✓ Pipeline test completed!\")\n",
    "print(\"=\" * 70)"
   ]
  },
  {
   "cell_type": "markdown",
   "metadata": {},
   "source": [
    "## Summary Statistics"
   ]
  },
  {
   "cell_type": "code",
   "execution_count": 7,
   "metadata": {},
   "outputs": [
    {
     "name": "stdout",
     "output_type": "stream",
     "text": [
      "\n",
      "📊 SUMMARY STATISTICS\n",
      "======================================================================\n",
      "Search query: FOXO3 longevity mutation\n",
      "Total papers searched: 19\n",
      "Relevant papers found: 12\n",
      "Relevance rate: 63.2%\n",
      "Average relevance score: 0.82\n",
      "\n",
      "Top scored paper: Relaxed Selection Limits Lifespan by Increasing Mutation Load.\n"
     ]
    }
   ],
   "source": [
    "print(\"\\n📊 SUMMARY STATISTICS\")\n",
    "print(\"=\" * 70)\n",
    "print(f\"Search query: {SEARCH_QUERY}\")\n",
    "print(f\"Total papers searched: {len(papers)}\")\n",
    "print(f\"Relevant papers found: {len(relevant_papers)}\")\n",
    "print(f\"Relevance rate: {len(relevant_papers)/len(papers)*100:.1f}%\")\n",
    "\n",
    "if relevant_papers:\n",
    "    avg_score = sum(p['screening_score'] for p in relevant_papers) / len(relevant_papers)\n",
    "    print(f\"Average relevance score: {avg_score:.2f}\")\n",
    "    print(f\"\\nTop scored paper: {relevant_papers[0]['title']}\")"
   ]
  },
  {
   "cell_type": "markdown",
   "metadata": {},
   "source": [
    "## Export Results (Optional)"
   ]
  },
  {
   "cell_type": "code",
   "execution_count": null,
   "metadata": {},
   "outputs": [],
   "source": [
    "# Uncomment to save results to JSON\n",
    "# import json\n",
    "# with open('relevant_papers.json', 'w') as f:\n",
    "#     json.dump(relevant_papers, f, indent=2)\n",
    "# print(\"Results saved to relevant_papers.json\")"
   ]
  }
 ],
 "metadata": {
  "kernelspec": {
   "display_name": ".venv",
   "language": "python",
   "name": "python3"
  },
  "language_info": {
   "codemirror_mode": {
    "name": "ipython",
    "version": 3
   },
   "file_extension": ".py",
   "mimetype": "text/x-python",
   "name": "python",
   "nbconvert_exporter": "python",
   "pygments_lexer": "ipython3",
   "version": "3.12.11"
  }
 },
 "nbformat": 4,
 "nbformat_minor": 4
}
