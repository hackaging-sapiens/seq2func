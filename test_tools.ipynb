{
 "cells": [
  {
   "cell_type": "markdown",
   "metadata": {},
   "source": [
    "# PubMed Tools Pipeline Test\n",
    "\n",
    "This notebook tests the full pipeline: **Search → Fetch → Screen**\n",
    "\n",
    "The pipeline screens papers for sequence→function relationships using only:\n",
    "- Paper titles\n",
    "- MeSH terms (keywords)"
   ]
  },
  {
   "cell_type": "markdown",
   "metadata": {},
   "source": [
    "## Import Required Libraries"
   ]
  },
  {
   "cell_type": "code",
   "execution_count": 1,
   "metadata": {},
   "outputs": [
    {
     "name": "stdout",
     "output_type": "stream",
     "text": [
      "✓ Using model: meta-llama/Llama-3.3-70B-Instruct\n"
     ]
    }
   ],
   "source": [
    "# IMPORTANT: If you've changed the model in .env, restart the kernel before running!\n",
    "# Kernel -> Restart Kernel\n",
    "\n",
    "import json\n",
    "from src.tools.pubmed_search import search_pubmed\n",
    "from src.tools.pubmed_fetch import fetch_abstracts\n",
    "from src.tools.screening import screen_paper_by_metadata\n",
    "\n",
    "# Verify the model being used\n",
    "from src.config import NEBIUS_MODEL\n",
    "print(f\"✓ Using model: {NEBIUS_MODEL}\")"
   ]
  },
  {
   "cell_type": "markdown",
   "metadata": {},
   "source": [
    "## Configure Search Parameters"
   ]
  },
  {
   "cell_type": "code",
   "execution_count": 2,
   "metadata": {},
   "outputs": [],
   "source": [
    "# Customize these parameters\n",
    "SEARCH_QUERY = \"FOXO3 longevity mutation\"\n",
    "MAX_RESULTS = 20"
   ]
  },
  {
   "cell_type": "markdown",
   "metadata": {},
   "source": [
    "## Step 1: Search PubMed"
   ]
  },
  {
   "cell_type": "code",
   "execution_count": 3,
   "metadata": {},
   "outputs": [
    {
     "name": "stdout",
     "output_type": "stream",
     "text": [
      "======================================================================\n",
      "STEP 1: Searching PubMed for 'FOXO3 longevity mutation'\n",
      "======================================================================\n",
      "\n",
      "Found 19 PMIDs\n",
      "✓ Search successful! Got 19 PMIDs\n",
      "\n",
      "First 5 PMIDs: ['31257025', '22493319', '21909281', '32720744', '24466179']\n"
     ]
    }
   ],
   "source": [
    "print(\"=\" * 70)\n",
    "print(f\"STEP 1: Searching PubMed for '{SEARCH_QUERY}'\")\n",
    "print(\"=\" * 70)\n",
    "\n",
    "pmids = search_pubmed(SEARCH_QUERY, max_results=MAX_RESULTS)\n",
    "print(f\"\\nFound {len(pmids)} PMIDs\")\n",
    "\n",
    "if not pmids or pmids[0].startswith(\"Error\"):\n",
    "    print(\"\\n❌ Search failed!\")\n",
    "    raise Exception(\"Search failed\")\n",
    "\n",
    "print(f\"✓ Search successful! Got {len(pmids)} PMIDs\")\n",
    "print(f\"\\nFirst 5 PMIDs: {pmids[:5]}\")"
   ]
  },
  {
   "cell_type": "markdown",
   "metadata": {},
   "source": [
    "## Step 2: Fetch Paper Metadata"
   ]
  },
  {
   "cell_type": "code",
   "execution_count": 4,
   "metadata": {},
   "outputs": [
    {
     "name": "stdout",
     "output_type": "stream",
     "text": [
      "\n",
      "======================================================================\n",
      "STEP 2: Fetching metadata for 19 papers\n",
      "======================================================================\n",
      "✓ Fetched metadata for 19 papers\n",
      "\n",
      "----------------------------------------------------------------------\n",
      "Sample paper:\n",
      "----------------------------------------------------------------------\n",
      "PMID: 31257025\n",
      "Title: Relaxed Selection Limits Lifespan by Increasing Mutation Load.\n",
      "Year: 2019\n",
      "Journal: Cell\n",
      "MeSH Terms: ['Aging', 'Animals', 'DNA Replication', 'Evolution, Molecular', 'Gene Frequency']...\n"
     ]
    }
   ],
   "source": [
    "print(\"\\n\" + \"=\" * 70)\n",
    "print(f\"STEP 2: Fetching metadata for {len(pmids)} papers\")\n",
    "print(\"=\" * 70)\n",
    "\n",
    "# Convert list to newline-separated string (as the tool expects)\n",
    "pmid_string = \"\\n\".join(pmids)\n",
    "papers = fetch_abstracts(pmid_string)\n",
    "\n",
    "if papers and \"error\" in papers[0]:\n",
    "    print(\"\\n❌ Fetch failed!\")\n",
    "    print(papers[0][\"error\"])\n",
    "    raise Exception(\"Fetch failed\")\n",
    "\n",
    "print(f\"✓ Fetched metadata for {len(papers)} papers\")\n",
    "\n",
    "# Show a sample paper\n",
    "if papers:\n",
    "    print(\"\\n\" + \"-\" * 70)\n",
    "    print(\"Sample paper:\")\n",
    "    print(\"-\" * 70)\n",
    "    sample = papers[0]\n",
    "    print(f\"PMID: {sample['pmid']}\")\n",
    "    print(f\"Title: {sample['title']}\")\n",
    "    print(f\"Year: {sample['year']}\")\n",
    "    print(f\"Journal: {sample['journal']}\")\n",
    "    print(f\"MeSH Terms: {sample['mesh_terms'][:5] if sample['mesh_terms'] else 'None'}...\")"
   ]
  },
  {
   "cell_type": "markdown",
   "metadata": {},
   "source": [
    "## Step 3: Screen Papers Using Title + Keywords"
   ]
  },
  {
   "cell_type": "code",
   "execution_count": 5,
   "metadata": {},
   "outputs": [
    {
     "name": "stdout",
     "output_type": "stream",
     "text": [
      "\n",
      "======================================================================\n",
      "STEP 3: Screening papers using title + MeSH terms\n",
      "======================================================================\n",
      "\n",
      "Screening paper 1/19: 31257025\n",
      "  Title: Relaxed Selection Limits Lifespan by Increasing Mutation Load....\n",
      "  ✓ RELEVANT (score: 0.80)\n",
      "    Reason: The title and keywords suggest a link between mutation load and lifespan, implying a sequence→phenotype connection, and the presence of experimental keywords like 'DNA Replication' and 'Mitochondria/genetics/metabolism' indicate evidence of genetic studies.\n",
      "\n",
      "Screening paper 2/19: 22493319\n",
      "  Title: FOXO3/FKHRL1 is activated by 5-aza-2-deoxycytidine and induces silenced caspase-...\n",
      "  ✗ Not relevant (score: 0.00)\n",
      "    Reason: The paper focuses on cancer treatment and apoptosis, with no clear link to longevity, lifespan, or aging research, and does not mention specific sequence modifications related to aging or longevity.\n",
      "\n",
      "Screening paper 3/19: 21909281\n",
      "  Title: The evolutionarily conserved longevity determinants HCF-1 and SIR-2.1/SIRT1 coll...\n",
      "  ✓ RELEVANT (score: 0.90)\n",
      "    Reason: The title and keywords suggest a specific link between sequence modifications (HCF-1 and SIR-2.1/SIRT1 collaboration) and longevity/aging phenotypes, with evidence of experimental studies in Caenorhabditis elegans and HEK293 Cells.\n",
      "\n",
      "Screening paper 4/19: 32720744\n",
      "  Title: FOXO3a acts to suppress DNA double-strand break-induced mutations....\n",
      "  ✓ RELEVANT (score: 0.80)\n",
      "    Reason: The title suggests a specific role for the FOXO3a protein in suppressing DNA double-strand break-induced mutations, and the keywords indicate a link to DNA damage and genetics, which is relevant to aging research. The mention of 'Age Factors' as a keyword also supports the connection to aging/longevity context.\n",
      "\n",
      "Screening paper 5/19: 24466179\n",
      "  Title: Bcl2 deficiency activates FoxO through Akt inactivation and accelerates osteobla...\n",
      "  ✓ RELEVANT (score: 0.80)\n",
      "    Reason: The title suggests a specific gene deficiency (Bcl2) and the keywords indicate a link to cellular differentiation and metabolism, which can be related to aging and longevity, and the study appears to be experimental with genetic modification (gene deletion) in mice.\n",
      "\n",
      "Screening paper 6/19: 38556315\n",
      "  Title: [Regulation of Aging Processes: A Perspective of Dietary Restriction Models]....\n",
      "  ✗ Not relevant (score: 0.20)\n",
      "    Reason: The title and keywords suggest a focus on dietary restriction models and their impact on aging, but do not specifically mention a mutation/variant/domain change in a protein or gene, and the phrase 'A Perspective' implies a non-experimental study.\n",
      "\n",
      "Screening paper 7/19: 28945225\n",
      "  Title: Oncogenic RAS-induced CK1alpha drives nuclear FOXO proteolysis....\n",
      "  ✓ RELEVANT (score: 0.80)\n",
      "    Reason: The title and keywords suggest a specific mutation (oncogenic RAS) and its effect on a protein (CK1alpha) and a transcription factor (FOXO), which is related to cellular processes such as apoptosis and cell cycle, and the paper appears to involve experimental studies with genetic and pharmacological interventions. The connection to aging/longevity is implied through the involvement of FOXO, a known regulator of longevity and stress resistance.\n",
      "\n",
      "Screening paper 8/19: 28869600\n",
      "  Title: FOXO3-mediated chemo-protection in high-stage neuroblastoma depends on wild-type...\n",
      "  ✗ Not relevant (score: 0.20)\n",
      "    Reason: The paper focuses on cancer treatment and drug resistance, with no clear link to aging or longevity, and although it mentions specific genes and mutations, the context is disease-focused rather than aging-related.\n",
      "\n",
      "Screening paper 9/19: 26539642\n",
      "  Title: Genome-wide endogenous DAF-16/FOXO recruitment dynamics during lowered insulin s...\n",
      "  ✓ RELEVANT (score: 0.80)\n",
      "    Reason: The title and keywords suggest a link between specific genetic modifications (DAF-16/FOXO recruitment dynamics) and longevity-related phenotypes (lowered insulin signalling) in an experimental model (C. elegans), indicating a potential SEQUENCE→PHENOTYPE link in aging research.\n",
      "\n",
      "Screening paper 10/19: 25798617\n",
      "  Title: Casein kinase 1alpha-dependent feedback loop controls autophagy in RAS-driven ca...\n",
      "  ✗ Not relevant (score: 0.00)\n",
      "    Reason: The paper focuses on cancer and does not mention links to longevity, lifespan, survival, stress resistance, centenarians, or age-related phenotypes, and thus does not meet the inclusion criteria for SEQUENCE→PHENOTYPE links in aging research.\n",
      "\n",
      "Screening paper 11/19: 26694365\n",
      "  Title: Histone H2AX Is Involved in FoxO3a-Mediated Transcriptional Responses to Ionizin...\n",
      "  ✓ RELEVANT (score: 0.80)\n",
      "    Reason: The paper investigates the role of a specific protein, FoxO3a, and its interaction with histone H2AX in response to ionizing radiation, which is related to genome stability and potentially aging. The study involves experimental techniques such as gene knockdown, which suggests a mechanistic approach to understanding the link between the protein and radiation response.\n",
      "\n",
      "Screening paper 12/19: 35418822\n",
      "  Title: Evaluation of the Effect of FOXO3 rs13217795 Genotype and Minor Allele (C) on Cl...\n",
      "  ✓ RELEVANT (score: 0.80)\n",
      "    Reason: The title mentions a specific mutation (FOXO3 rs13217795 genotype) and its potential impact on a phenotype (clinical chemistry and genetic risk of diabetes) in the context of aging (among the elderly individuals). This suggests a SEQUENCE→PHENOTYPE link in aging research, meeting the inclusion criteria.\n",
      "\n",
      "Screening paper 13/19: 31265733\n",
      "  Title: Cellular function of chicken FOXO3 and its associations with chicken growth....\n",
      "  ✗ Not relevant (score: 0.20)\n",
      "    Reason: The paper focuses on chicken growth and development, with no clear indication of links to longevity, lifespan, or age-related phenotypes, and the keywords do not explicitly mention aging or longevity.\n",
      "\n",
      "Screening paper 14/19: 21967153\n",
      "  Title: Post-transcriptional regulation of IGF1R by key microRNAs in long-lived mutant m...\n",
      "  ✓ RELEVANT (score: 0.80)\n",
      "    Reason: The title suggests a specific post-transcriptional regulation mechanism involving microRNAs in long-lived mutant mice, and the keywords indicate a link to longevity and aging-related phenotypes through the mention of 'Longevity' and genes related to aging such as IGF1R and Forkhead Box Protein O3.\n",
      "\n",
      "Screening paper 15/19: 12820900\n",
      "  Title: Forkhead transcription factor FOXO1 (FKHR)-dependent induction of PDK4 gene expr...\n",
      "  ✓ RELEVANT (score: 0.80)\n",
      "    Reason: The paper investigates the role of a specific transcription factor, FOXO1, in regulating gene expression in response to energy deprivation, which is related to stress resistance and potentially longevity. The study involves experimental approaches, including genetic and molecular biology techniques, to elucidate the mechanism of FOXO1-dependent induction of PDK4 gene expression.\n",
      "\n",
      "Screening paper 16/19: 25208626\n",
      "  Title: Characterization of the rs2802292 SNP identifies FOXO3A as a modifier locus pred...\n",
      "  ✗ Not relevant (score: 0.20)\n",
      "    Reason: The paper focuses on cancer risk in patients with specific syndromes and does not explicitly link the FOXO3A variant to aging or longevity, although FOXO3A is known to be involved in aging processes, the context here is disease-focused without direct reference to lifespan or age-related phenotypes.\n",
      "\n",
      "Screening paper 17/19: 25553725\n",
      "  Title: Association of the insulin-like growth factor binding protein 3 (IGFBP-3) polymo...\n",
      "  ✓ RELEVANT (score: 0.90)\n",
      "    Reason: The title suggests a specific polymorphism in the IGFBP-3 gene associated with longevity, and the keywords indicate a link to longevity and age-related phenotypes, with evidence of a case-control study implying experimental validation.\n",
      "\n",
      "Screening paper 18/19: 22474372\n",
      "  Title: Structures of KIX domain of CBP in complex with two FOXO3a transactivation domai...\n",
      "  ✓ RELEVANT (score: 0.80)\n",
      "    Reason: The title and keywords suggest a specific focus on the structure and function of the KIX domain of CBP in complex with FOXO3a, which is a transcription factor involved in longevity and aging, and the paper includes experimental methods such as calorimetry and circular dichroism, indicating a mechanistic study.\n",
      "\n",
      "Screening paper 19/19: 21713995\n",
      "  Title: Resveratrol promotes osteogenesis of human mesenchymal stem cells by upregulatin...\n",
      "  ✗ Not relevant (score: 0.20)\n",
      "    Reason: The paper investigates the effect of resveratrol on osteogenesis, but it does not specifically mention a mutation/variant/domain change in a protein or gene related to aging or longevity, and the focus is on a specific biological process rather than a direct sequence-to-phenotype link in aging research.\n",
      "\n",
      "✓ Screening complete!\n"
     ]
    }
   ],
   "source": [
    "print(\"\\n\" + \"=\" * 70)\n",
    "print(f\"STEP 3: Screening papers using title + MeSH terms\")\n",
    "print(\"=\" * 70)\n",
    "\n",
    "relevant_papers = []\n",
    "\n",
    "for i, paper in enumerate(papers, 1):\n",
    "    print(f\"\\nScreening paper {i}/{len(papers)}: {paper['pmid']}\")\n",
    "    print(f\"  Title: {paper.get('title', '')[:80]}...\")\n",
    "\n",
    "    result = screen_paper_by_metadata(\n",
    "        title=paper.get(\"title\", \"\"),\n",
    "        keywords=paper.get(\"mesh_terms\", [])\n",
    "    )\n",
    "\n",
    "    if result[\"relevant\"]:\n",
    "        relevant_papers.append({\n",
    "            **paper,\n",
    "            \"screening_score\": result[\"score\"],\n",
    "            \"screening_reasoning\": result[\"reasoning\"]\n",
    "        })\n",
    "        print(f\"  ✓ RELEVANT (score: {result['score']:.2f})\")\n",
    "        print(f\"    Reason: {result['reasoning']}\")\n",
    "    else:\n",
    "        print(f\"  ✗ Not relevant (score: {result['score']:.2f})\")\n",
    "        print(f\"    Reason: {result['reasoning']}\")\n",
    "\n",
    "print(f\"\\n✓ Screening complete!\")"
   ]
  },
  {
   "cell_type": "markdown",
   "metadata": {},
   "source": [
    "## Step 4: Display Results"
   ]
  },
  {
   "cell_type": "code",
   "execution_count": 6,
   "metadata": {},
   "outputs": [
    {
     "name": "stdout",
     "output_type": "stream",
     "text": [
      "\n",
      "======================================================================\n",
      "RESULTS: Found 12 relevant papers out of 19\n",
      "======================================================================\n",
      "\n",
      "Relevant papers:\n",
      "----------------------------------------------------------------------\n",
      "\n",
      "1. PMID: 31257025 | Score: 0.80\n",
      "   Title: Relaxed Selection Limits Lifespan by Increasing Mutation Load.\n",
      "   Year: 2019 | Journal: Cell\n",
      "   MeSH: Aging, Animals, DNA Replication, Evolution, Molecular, Gene Frequency...\n",
      "   Why relevant: The title and keywords suggest a link between mutation load and lifespan, implying a sequence→phenotype connection, and the presence of experimental keywords like 'DNA Replication' and 'Mitochondria/genetics/metabolism' indicate evidence of genetic studies.\n",
      "\n",
      "2. PMID: 21909281 | Score: 0.90\n",
      "   Title: The evolutionarily conserved longevity determinants HCF-1 and SIR-2.1/SIRT1 collaborate to regulate DAF-16/FOXO.\n",
      "   Year: 2011 | Journal: PLoS Genet\n",
      "   MeSH: Animals, Caenorhabditis elegans/genetics/physiology, Caenorhabditis elegans Proteins/genetics/metabolism, Evolution, Molecular, Forkhead Box Protein O3...\n",
      "   Why relevant: The title and keywords suggest a specific link between sequence modifications (HCF-1 and SIR-2.1/SIRT1 collaboration) and longevity/aging phenotypes, with evidence of experimental studies in Caenorhabditis elegans and HEK293 Cells.\n",
      "\n",
      "3. PMID: 32720744 | Score: 0.80\n",
      "   Title: FOXO3a acts to suppress DNA double-strand break-induced mutations.\n",
      "   Year: 2020 | Journal: Aging Cell\n",
      "   MeSH: Age Factors, *DNA Breaks, Double-Stranded, DNA Damage/*genetics, Forkhead Box Protein O3/*genetics, Humans...\n",
      "   Why relevant: The title suggests a specific role for the FOXO3a protein in suppressing DNA double-strand break-induced mutations, and the keywords indicate a link to DNA damage and genetics, which is relevant to aging research. The mention of 'Age Factors' as a keyword also supports the connection to aging/longevity context.\n",
      "\n",
      "4. PMID: 24466179 | Score: 0.80\n",
      "   Title: Bcl2 deficiency activates FoxO through Akt inactivation and accelerates osteoblast differentiation.\n",
      "   Year: 2014 | Journal: PLoS One\n",
      "   MeSH: Animals, Apoptosis, Cell Differentiation, Forkhead Box Protein O1, Forkhead Box Protein O3...\n",
      "   Why relevant: The title suggests a specific gene deficiency (Bcl2) and the keywords indicate a link to cellular differentiation and metabolism, which can be related to aging and longevity, and the study appears to be experimental with genetic modification (gene deletion) in mice.\n",
      "\n",
      "5. PMID: 28945225 | Score: 0.80\n",
      "   Title: Oncogenic RAS-induced CK1alpha drives nuclear FOXO proteolysis.\n",
      "   Year: 2018 | Journal: Oncogene\n",
      "   MeSH: Apoptosis/drug effects, Benzamides/pharmacology, Casein Kinase Ialpha/antagonists & inhibitors/*genetics/metabolism, Cell Cycle/drug effects, Cell Cycle Proteins...\n",
      "   Why relevant: The title and keywords suggest a specific mutation (oncogenic RAS) and its effect on a protein (CK1alpha) and a transcription factor (FOXO), which is related to cellular processes such as apoptosis and cell cycle, and the paper appears to involve experimental studies with genetic and pharmacological interventions. The connection to aging/longevity is implied through the involvement of FOXO, a known regulator of longevity and stress resistance.\n",
      "\n",
      "6. PMID: 26539642 | Score: 0.80\n",
      "   Title: Genome-wide endogenous DAF-16/FOXO recruitment dynamics during lowered insulin signalling in C. elegans.\n",
      "   Year: 2015 | Journal: Oncotarget\n",
      "   MeSH: Animals, Binding Sites, Caenorhabditis elegans/genetics/*metabolism, Caenorhabditis elegans Proteins/genetics/*metabolism, Chromatin Assembly and Disassembly...\n",
      "   Why relevant: The title and keywords suggest a link between specific genetic modifications (DAF-16/FOXO recruitment dynamics) and longevity-related phenotypes (lowered insulin signalling) in an experimental model (C. elegans), indicating a potential SEQUENCE→PHENOTYPE link in aging research.\n",
      "\n",
      "7. PMID: 26694365 | Score: 0.80\n",
      "   Title: Histone H2AX Is Involved in FoxO3a-Mediated Transcriptional Responses to Ionizing Radiation to Maintain Genome Stability.\n",
      "   Year: 2015 | Journal: Int J Mol Sci\n",
      "   MeSH: Animals, Dose-Response Relationship, Radiation, Embryo, Mammalian/cytology, Fibroblasts/metabolism/radiation effects, Forkhead Box Protein O3...\n",
      "   Why relevant: The paper investigates the role of a specific protein, FoxO3a, and its interaction with histone H2AX in response to ionizing radiation, which is related to genome stability and potentially aging. The study involves experimental techniques such as gene knockdown, which suggests a mechanistic approach to understanding the link between the protein and radiation response.\n",
      "\n",
      "8. PMID: 35418822 | Score: 0.80\n",
      "   Title: Evaluation of the Effect of FOXO3 rs13217795 Genotype and Minor Allele (C) on Clinical Chemistry and Genetic Risk of Diabetes Among the Elderly Individuals from Northern India.\n",
      "   Year: 2022 | Journal: Mol Syndromol\n",
      "   MeSH: None...\n",
      "   Why relevant: The title mentions a specific mutation (FOXO3 rs13217795 genotype) and its potential impact on a phenotype (clinical chemistry and genetic risk of diabetes) in the context of aging (among the elderly individuals). This suggests a SEQUENCE→PHENOTYPE link in aging research, meeting the inclusion criteria.\n",
      "\n",
      "9. PMID: 21967153 | Score: 0.80\n",
      "   Title: Post-transcriptional regulation of IGF1R by key microRNAs in long-lived mutant mice.\n",
      "   Year: 2011 | Journal: Aging Cell\n",
      "   MeSH: Animals, Cell Proliferation, Forkhead Box Protein O3, Forkhead Transcription Factors/genetics/metabolism, Gene Deletion...\n",
      "   Why relevant: The title suggests a specific post-transcriptional regulation mechanism involving microRNAs in long-lived mutant mice, and the keywords indicate a link to longevity and aging-related phenotypes through the mention of 'Longevity' and genes related to aging such as IGF1R and Forkhead Box Protein O3.\n",
      "\n",
      "10. PMID: 12820900 | Score: 0.80\n",
      "   Title: Forkhead transcription factor FOXO1 (FKHR)-dependent induction of PDK4 gene expression in skeletal muscle during energy deprivation.\n",
      "   Year: 2003 | Journal: Biochem J\n",
      "   MeSH: Animals, Blotting, Northern, Cell Line, DNA-Binding Proteins/*genetics/metabolism, Eating...\n",
      "   Why relevant: The paper investigates the role of a specific transcription factor, FOXO1, in regulating gene expression in response to energy deprivation, which is related to stress resistance and potentially longevity. The study involves experimental approaches, including genetic and molecular biology techniques, to elucidate the mechanism of FOXO1-dependent induction of PDK4 gene expression.\n",
      "\n",
      "11. PMID: 25553725 | Score: 0.90\n",
      "   Title: Association of the insulin-like growth factor binding protein 3 (IGFBP-3) polymorphism with longevity in Chinese nonagenarians and centenarians.\n",
      "   Year: 2014 | Journal: Aging (Albany NY)\n",
      "   MeSH: Age Factors, Aged, 80 and over, Asian People/*genetics, Ataxia Telangiectasia Mutated Proteins/genetics, Case-Control Studies...\n",
      "   Why relevant: The title suggests a specific polymorphism in the IGFBP-3 gene associated with longevity, and the keywords indicate a link to longevity and age-related phenotypes, with evidence of a case-control study implying experimental validation.\n",
      "\n",
      "12. PMID: 22474372 | Score: 0.80\n",
      "   Title: Structures of KIX domain of CBP in complex with two FOXO3a transactivation domains reveal promiscuity and plasticity in coactivator recruitment.\n",
      "   Year: 2012 | Journal: Proc Natl Acad Sci U S A\n",
      "   MeSH: Amino Acid Sequence, Animals, Binding Sites/genetics, Calorimetry, Cells, Cultured...\n",
      "   Why relevant: The title and keywords suggest a specific focus on the structure and function of the KIX domain of CBP in complex with FOXO3a, which is a transcription factor involved in longevity and aging, and the paper includes experimental methods such as calorimetry and circular dichroism, indicating a mechanistic study.\n",
      "\n",
      "======================================================================\n",
      "✓ Pipeline test completed!\n",
      "======================================================================\n"
     ]
    }
   ],
   "source": [
    "print(\"\\n\" + \"=\" * 70)\n",
    "print(f\"RESULTS: Found {len(relevant_papers)} relevant papers out of {len(papers)}\")\n",
    "print(\"=\" * 70)\n",
    "\n",
    "if relevant_papers:\n",
    "    print(\"\\nRelevant papers:\")\n",
    "    print(\"-\" * 70)\n",
    "\n",
    "    for i, paper in enumerate(relevant_papers, 1):\n",
    "        print(f\"\\n{i}. PMID: {paper['pmid']} | Score: {paper['screening_score']:.2f}\")\n",
    "        print(f\"   Title: {paper['title']}\")\n",
    "        print(f\"   Year: {paper['year']} | Journal: {paper['journal']}\")\n",
    "        print(f\"   MeSH: {', '.join(paper['mesh_terms'][:5]) if paper['mesh_terms'] else 'None'}...\")\n",
    "        print(f\"   Why relevant: {paper['screening_reasoning']}\")\n",
    "else:\n",
    "    print(\"\\n⚠️  No relevant papers found. Try a different query.\")\n",
    "\n",
    "print(\"\\n\" + \"=\" * 70)\n",
    "print(\"✓ Pipeline test completed!\")\n",
    "print(\"=\" * 70)"
   ]
  },
  {
   "cell_type": "markdown",
   "metadata": {},
   "source": [
    "## Summary Statistics"
   ]
  },
  {
   "cell_type": "code",
   "execution_count": 7,
   "metadata": {},
   "outputs": [
    {
     "name": "stdout",
     "output_type": "stream",
     "text": [
      "\n",
      "📊 SUMMARY STATISTICS\n",
      "======================================================================\n",
      "Search query: FOXO3 longevity mutation\n",
      "Total papers searched: 19\n",
      "Relevant papers found: 12\n",
      "Relevance rate: 63.2%\n",
      "Average relevance score: 0.82\n",
      "\n",
      "Top scored paper: Relaxed Selection Limits Lifespan by Increasing Mutation Load.\n"
     ]
    }
   ],
   "source": [
    "print(\"\\n📊 SUMMARY STATISTICS\")\n",
    "print(\"=\" * 70)\n",
    "print(f\"Search query: {SEARCH_QUERY}\")\n",
    "print(f\"Total papers searched: {len(papers)}\")\n",
    "print(f\"Relevant papers found: {len(relevant_papers)}\")\n",
    "print(f\"Relevance rate: {len(relevant_papers)/len(papers)*100:.1f}%\")\n",
    "\n",
    "if relevant_papers:\n",
    "    avg_score = sum(p['screening_score'] for p in relevant_papers) / len(relevant_papers)\n",
    "    print(f\"Average relevance score: {avg_score:.2f}\")\n",
    "    print(f\"\\nTop scored paper: {relevant_papers[0]['title']}\")"
   ]
  },
  {
   "cell_type": "markdown",
   "metadata": {},
   "source": [
    "## Export Results (Optional)"
   ]
  },
  {
   "cell_type": "code",
   "execution_count": null,
   "metadata": {},
   "outputs": [],
   "source": [
    "# Uncomment to save results to JSON\n",
    "# import json\n",
    "# with open('relevant_papers.json', 'w') as f:\n",
    "#     json.dump(relevant_papers, f, indent=2)\n",
    "# print(\"Results saved to relevant_papers.json\")"
   ]
  }
 ],
 "metadata": {
  "kernelspec": {
   "display_name": ".venv",
   "language": "python",
   "name": "python3"
  },
  "language_info": {
   "codemirror_mode": {
    "name": "ipython",
    "version": 3
   },
   "file_extension": ".py",
   "mimetype": "text/x-python",
   "name": "python",
   "nbconvert_exporter": "python",
   "pygments_lexer": "ipython3",
   "version": "3.12.11"
  }
 },
 "nbformat": 4,
 "nbformat_minor": 4
}
