{
 "cells": [
  {
   "cell_type": "markdown",
   "metadata": {},
   "source": [
    "# PubMed Tools Pipeline Test\n",
    "\n",
    "This notebook tests the full pipeline: **Search → Fetch → Screen (Metadata) → Screen (Abstract)**\n",
    "\n",
    "The pipeline uses a unified `screen_paper()` function that can perform:\n",
    "1. **Quick screening** using only title and MeSH terms (no abstract)\n",
    "2. **Deep screening** using title, abstract, and MeSH terms to identify sequence→function→aging links"
   ]
  },
  {
   "cell_type": "markdown",
   "metadata": {},
   "source": [
    "## Import Required Libraries"
   ]
  },
  {
   "cell_type": "code",
   "execution_count": 1,
   "metadata": {},
   "outputs": [
    {
     "name": "stdout",
     "output_type": "stream",
     "text": [
      "✓ Using model: meta-llama/Llama-3.3-70B-Instruct\n"
     ]
    }
   ],
   "source": [
    "# IMPORTANT: If you've changed the model in .env, restart the kernel before running!\n",
    "# Kernel -> Restart Kernel\n",
    "\n",
    "import json\n",
    "from src.tools.pubmed import PubMed\n",
    "from src.tools.screening import screen_paper\n",
    "\n",
    "# Initialize PubMed client\n",
    "pubmed = PubMed()\n",
    "\n",
    "# Verify the model being used\n",
    "from src.config import NEBIUS_MODEL\n",
    "print(f\"✓ Using model: {NEBIUS_MODEL}\")"
   ]
  },
  {
   "cell_type": "markdown",
   "metadata": {},
   "source": [
    "## Configure Search Parameters"
   ]
  },
  {
   "cell_type": "code",
   "execution_count": 2,
   "metadata": {},
   "outputs": [],
   "source": [
    "# Customize these parameters\n",
    "SEARCH_QUERY = \"IGF1R aging\"\n",
    "MAX_RESULTS = 10"
   ]
  },
  {
   "cell_type": "markdown",
   "metadata": {},
   "source": [
    "## Step 1: Search PubMed"
   ]
  },
  {
   "cell_type": "code",
   "execution_count": 3,
   "metadata": {},
   "outputs": [
    {
     "name": "stdout",
     "output_type": "stream",
     "text": [
      "======================================================================\n",
      "STEP 1: Searching PubMed for 'IGF1R aging'\n",
      "======================================================================\n",
      "\n",
      "Found 10 PMIDs\n",
      "✓ Search successful! Got 10 PMIDs\n",
      "\n",
      "First 5 PMIDs: ['35857466', '16123266', '37527036', '37441495', '30026579']\n"
     ]
    }
   ],
   "source": [
    "print(\"=\" * 70)\n",
    "print(f\"STEP 1: Searching PubMed for '{SEARCH_QUERY}'\")\n",
    "print(\"=\" * 70)\n",
    "\n",
    "pmids = pubmed.search(SEARCH_QUERY, max_results=MAX_RESULTS)\n",
    "print(f\"\\nFound {len(pmids)} PMIDs\")\n",
    "\n",
    "if not pmids or pmids[0].startswith(\"Error\"):\n",
    "    print(\"\\n❌ Search failed!\")\n",
    "    raise Exception(\"Search failed\")\n",
    "\n",
    "print(f\"✓ Search successful! Got {len(pmids)} PMIDs\")\n",
    "print(f\"\\nFirst 5 PMIDs: {pmids[:5]}\")"
   ]
  },
  {
   "cell_type": "markdown",
   "metadata": {},
   "source": [
    "## Step 2: Fetch Paper Metadata"
   ]
  },
  {
   "cell_type": "code",
   "execution_count": 4,
   "metadata": {},
   "outputs": [
    {
     "name": "stdout",
     "output_type": "stream",
     "text": [
      "\n",
      "======================================================================\n",
      "STEP 2: Fetching metadata for 10 papers\n",
      "======================================================================\n",
      "✓ Fetched metadata for 10 papers\n",
      "\n",
      "----------------------------------------------------------------------\n",
      "Sample paper:\n",
      "----------------------------------------------------------------------\n",
      "PMID: 35857466\n",
      "Title: Progerin modulates the IGF-1R/Akt signaling involved in aging.\n",
      "Year: 2022\n",
      "Journal: Sci Adv\n",
      "MeSH Terms: None...\n"
     ]
    }
   ],
   "source": [
    "print(\"\\n\" + \"=\" * 70)\n",
    "print(f\"STEP 2: Fetching metadata for {len(pmids)} papers\")\n",
    "print(\"=\" * 70)\n",
    "\n",
    "# Fetch papers using PubMed class\n",
    "papers = pubmed.fetch(pmids)\n",
    "\n",
    "if papers and \"error\" in papers[0]:\n",
    "    print(\"\\n❌ Fetch failed!\")\n",
    "    print(papers[0][\"error\"])\n",
    "    raise Exception(\"Fetch failed\")\n",
    "\n",
    "print(f\"✓ Fetched metadata for {len(papers)} papers\")\n",
    "\n",
    "# Show a sample paper\n",
    "if papers:\n",
    "    print(\"\\n\" + \"-\" * 70)\n",
    "    print(\"Sample paper:\")\n",
    "    print(\"-\" * 70)\n",
    "    sample = papers[0]\n",
    "    print(f\"PMID: {sample['pmid']}\")\n",
    "    print(f\"Title: {sample['title']}\")\n",
    "    print(f\"Year: {sample['year']}\")\n",
    "    print(f\"Journal: {sample['journal']}\")\n",
    "    print(f\"MeSH Terms: {sample['mesh_terms'][:5] if sample['mesh_terms'] else 'None'}...\")"
   ]
  },
  {
   "cell_type": "markdown",
   "metadata": {},
   "source": [
    "## Step 3: Screen Papers Using Title + Keywords"
   ]
  },
  {
   "cell_type": "code",
   "execution_count": 5,
   "metadata": {},
   "outputs": [
    {
     "name": "stdout",
     "output_type": "stream",
     "text": [
      "\n",
      "======================================================================\n",
      "STEP 3: Screening papers using title + MeSH terms\n",
      "======================================================================\n",
      "\n",
      "Screening paper 1/10: 35857466\n",
      "  Title: Progerin modulates the IGF-1R/Akt signaling involved in aging....\n",
      "  ✓ RELEVANT (score: 0.80)\n",
      "    Reason: The title mentions a specific protein, progerin, and its involvement in aging through modulation of the IGF-1R/Akt signaling pathway, suggesting a potential SEQUENCE→PHENOTYPE link. The lack of keywords is a limitation, but the title provides sufficient indication of a link to aging research.\n",
      "\n",
      "Screening paper 2/10: 16123266\n",
      "  Title: Suppression of aging in mice by the hormone Klotho....\n",
      "  ✓ RELEVANT (score: 0.80)\n",
      "    Reason: The title and keywords suggest a link between the Klotho hormone and aging/longevity, and the presence of terms like 'genetics', 'transgenic mice', and 'recombinant proteins' imply experimental studies, making this paper relevant for SEQUENCE→PHENOTYPE links in aging research.\n",
      "\n",
      "Screening paper 3/10: 37527036\n",
      "  Title: IGFBPL1 is a master driver of microglia homeostasis and resolution of neuroinfla...\n",
      "  ✗ Not relevant (score: 0.00)\n",
      "    Reason: The title and keywords do not suggest a specific mutation/variant/domain change in a protein or gene, and there is no clear link to longevity, lifespan, or aging-related phenotypes, only disease focus.\n",
      "\n",
      "Screening paper 4/10: 37441495\n",
      "  Title: Decreased IGF1R attenuates senescence and improves function in pancreatic beta-c...\n",
      "  ✓ RELEVANT (score: 0.80)\n",
      "    Reason: The title suggests a specific modification (decreased IGF1R) that affects cellular function and senescence, implying a potential link to aging or longevity, and the keywords indicate experimental studies in animals.\n",
      "\n",
      "Screening paper 5/10: 30026579\n",
      "  Title: Reversing wrinkled skin and hair loss in mice by restoring mitochondrial functio...\n",
      "  ✓ RELEVANT (score: 0.80)\n",
      "    Reason: The title and keywords suggest a link between mitochondrial function and age-related phenotypes, such as skin aging and hair loss, and imply a potential sequence-to-phenotype connection through the mention of DNA Polymerase gamma and mitochondrial DNA genetics. The study appears to involve experimental manipulation, as indicated by the use of doxycycline, to restore mitochondrial function and observe effects on aging phenotypes.\n",
      "\n",
      "Screening paper 6/10: 36189799\n",
      "  Title: GIGYF1-disturbed IGF-1R recycling: a potential contributor to autism spectrum di...\n",
      "  ✗ Not relevant (score: 0.00)\n",
      "    Reason: The paper focuses on autism spectrum disorder without mentioning aging, longevity, or age-related phenotypes, and does not suggest a specific sequence modification linked to these traits.\n",
      "\n",
      "Screening paper 7/10: 35786404\n",
      "  Title: Spermidine overrides INSR (insulin receptor)-IGF1R (insulin-like growth factor 1...\n",
      "  ✓ RELEVANT (score: 0.80)\n",
      "    Reason: The title suggests a specific mechanism involving the insulin receptor (INSR) and insulin-like growth factor 1 receptor (IGF1R) in the context of aging and autophagy, and the keywords indicate a link to aging and age-related phenotypes, with evidence of experimental studies in animals and humans.\n",
      "\n",
      "Screening paper 8/10: 32294406\n",
      "  Title: Insulin-Like Growth Factors Are Key Regulators of T Helper 17 Regulatory T Cell ...\n",
      "  ✗ Not relevant (score: 0.00)\n",
      "    Reason: The paper focuses on autoimmunity without mentioning specific sequence modifications or links to longevity, lifespan, or aging-related phenotypes, and does not provide evidence of experimental studies on SEQUENCE→PHENOTYPE links in aging research.\n",
      "\n",
      "Screening paper 9/10: 38157252\n",
      "  Title: IGFBPL1 inhibits macrophage lipid accumulation by enhancing the activation of IG...\n",
      "  ✗ Not relevant (score: 0.20)\n",
      "    Reason: The paper discusses a specific biological pathway and its relation to atherosclerosis, but it does not explicitly mention links to longevity, lifespan, or aging, and lacks specific sequence modifications or genetic studies focused on aging research.\n",
      "\n",
      "Screening paper 10/10: 37891556\n",
      "  Title: Klotho inhibits renal ox-LDL deposition via IGF-1R/RAC1/OLR1 signaling to amelio...\n",
      "  ✗ Not relevant (score: 0.20)\n",
      "    Reason: The paper focuses on diabetic kidney disease without explicit mention of aging or longevity, and does not describe specific sequence modifications in a protein or gene related to aging research.\n",
      "\n",
      "✓ Metadata screening complete!\n"
     ]
    }
   ],
   "source": [
    "print(\"\\n\" + \"=\" * 70)\n",
    "print(f\"STEP 3: Screening papers using title + MeSH terms\")\n",
    "print(\"=\" * 70)\n",
    "\n",
    "relevant_papers = []\n",
    "\n",
    "for i, paper in enumerate(papers, 1):\n",
    "    print(f\"\\nScreening paper {i}/{len(papers)}: {paper['pmid']}\")\n",
    "    print(f\"  Title: {paper.get('title', '')[:80]}...\")\n",
    "\n",
    "    result = screen_paper(\n",
    "        title=paper.get(\"title\", \"\"),\n",
    "        keywords=paper.get(\"mesh_terms\", [])\n",
    "        # No abstract parameter = quick metadata screening\n",
    "    )\n",
    "\n",
    "    if result[\"relevant\"]:\n",
    "        relevant_papers.append({\n",
    "            **paper,\n",
    "            \"metadata_score\": result[\"score\"],\n",
    "            \"metadata_reasoning\": result[\"reasoning\"]\n",
    "        })\n",
    "        print(f\"  ✓ RELEVANT (score: {result['score']:.2f})\")\n",
    "        print(f\"    Reason: {result['reasoning']}\")\n",
    "    else:\n",
    "        print(f\"  ✗ Not relevant (score: {result['score']:.2f})\")\n",
    "        print(f\"    Reason: {result['reasoning']}\")\n",
    "\n",
    "print(f\"\\n✓ Metadata screening complete!\")"
   ]
  },
  {
   "cell_type": "markdown",
   "metadata": {},
   "source": [
    "## Step 4: Deep Screen Abstracts for Sequence→Function→Aging Links"
   ]
  },
  {
   "cell_type": "code",
   "execution_count": 6,
   "metadata": {},
   "outputs": [
    {
     "name": "stdout",
     "output_type": "stream",
     "text": [
      "\n",
      "======================================================================\n",
      "STEP 4: Deep screening abstracts for sequence→function→aging links\n",
      "======================================================================\n",
      "\n",
      "Deep screening paper 1/5: 35857466\n",
      "  Title: Progerin modulates the IGF-1R/Akt signaling involved in aging....\n",
      "  Score: 0.90\n",
      "  ✓✓ HIGH PRIORITY\n",
      "    Reasoning: The paper describes a specific sequence change (LMNA mutation leading to progerin production) that causes a functional change (mislocalization and interaction with IGF-1R, down-regulating its expression) which affects an aging-related phenotype (premature aging, cellular senescence, and reduced longevity). The mechanistic connection between sequence, function, and aging is well-supported by experimental validation.\n",
      "\n",
      "Deep screening paper 2/5: 16123266\n",
      "  Title: Suppression of aging in mice by the hormone Klotho....\n",
      "  Score: 0.20\n",
      "  ✗ Lower priority (score < 0.5 or not relevant)\n",
      "    Reasoning: The paper describes the effect of Klotho overexpression on aging, but it does not provide explicit sequence-level changes, only gene expression changes, which does not meet the critical requirements.\n",
      "\n",
      "Deep screening paper 3/5: 37441495\n",
      "  Title: Decreased IGF1R attenuates senescence and improves function in pancreatic beta-c...\n",
      "  Score: 0.20\n",
      "  ✗ Lower priority (score < 0.5 or not relevant)\n",
      "    Reasoning: The paper describes a functional change (decreased IGF1R signaling) that affects an aging-related phenotype (senescence in pancreatic beta-cells), but it does not explicitly mention a sequence-level change, only gene expression and signaling changes.\n",
      "\n",
      "Deep screening paper 4/5: 30026579\n",
      "  Title: Reversing wrinkled skin and hair loss in mice by restoring mitochondrial functio...\n",
      "  Score: 0.90\n",
      "  ✓✓ HIGH PRIORITY\n",
      "    Reasoning: The paper describes a specific sequence change (dominant-negative mutation in the polymerase domain of POLG1) that leads to a functional change (mitochondrial dysfunction) affecting an aging-related phenotype (skin wrinkles, hair loss, and inflammation), with strong experimental validation of the mechanistic link.\n",
      "\n",
      "Deep screening paper 5/5: 35786404\n",
      "  Title: Spermidine overrides INSR (insulin receptor)-IGF1R (insulin-like growth factor 1...\n",
      "  Score: 0.20\n",
      "  ✗ Lower priority (score < 0.5 or not relevant)\n",
      "    Reasoning: The paper discusses the role of IGF1R signaling in cardiac health and aging, but it does not describe explicit sequence-level changes, instead focusing on gene expression and signaling pathway modifications, which does not meet the critical requirements.\n",
      "\n",
      "✓ Deep screening complete!\n"
     ]
    }
   ],
   "source": [
    "print(\"\\n\" + \"=\" * 70)\n",
    "print(f\"STEP 4: Deep screening abstracts for sequence→function→aging links\")\n",
    "print(\"=\" * 70)\n",
    "\n",
    "highly_relevant_papers = []\n",
    "\n",
    "for i, paper in enumerate(relevant_papers, 1):\n",
    "    print(f\"\\nDeep screening paper {i}/{len(relevant_papers)}: {paper['pmid']}\")\n",
    "    print(f\"  Title: {paper.get('title', '')[:80]}...\")\n",
    "    \n",
    "    result = screen_paper(\n",
    "        title=paper.get(\"title\", \"\"),\n",
    "        keywords=paper.get(\"mesh_terms\", []),\n",
    "        abstract=paper.get(\"abstract\", \"\")  # Including abstract = deep screening\n",
    "    )\n",
    "    \n",
    "    print(f\"  Score: {result['score']:.2f}\")\n",
    "    \n",
    "    # Only keep papers with high scores (threshold 0.5)\n",
    "    if result['score'] >= 0.5 and result['relevant']:\n",
    "        highly_relevant_papers.append({\n",
    "            **paper,\n",
    "            \"abstract_score\": result[\"score\"],\n",
    "            \"abstract_reasoning\": result[\"reasoning\"]\n",
    "        })\n",
    "        print(f\"  ✓✓ HIGH PRIORITY\")\n",
    "        print(f\"    Reasoning: {result['reasoning']}\")\n",
    "    else:\n",
    "        print(f\"  ✗ Lower priority (score < 0.5 or not relevant)\")\n",
    "        print(f\"    Reasoning: {result['reasoning']}\")\n",
    "\n",
    "print(f\"\\n✓ Deep screening complete!\")"
   ]
  },
  {
   "cell_type": "markdown",
   "metadata": {},
   "source": [
    "## Step 5: Display Results"
   ]
  },
  {
   "cell_type": "code",
   "execution_count": 7,
   "metadata": {},
   "outputs": [
    {
     "name": "stdout",
     "output_type": "stream",
     "text": [
      "\n",
      "======================================================================\n",
      "RESULTS: Found 2 HIGH PRIORITY papers\n",
      "         (out of 5 relevant, 10 total)\n",
      "======================================================================\n",
      "\n",
      "High priority papers with sequence→function→aging links:\n",
      "----------------------------------------------------------------------\n",
      "\n",
      "1. PMID: 35857466\n",
      "   Metadata Score: 0.80 | Abstract Score: 0.90\n",
      "   Title: Progerin modulates the IGF-1R/Akt signaling involved in aging.\n",
      "   Year: 2022 | Journal: Sci Adv\n",
      "   Analysis: The paper describes a specific sequence change (LMNA mutation leading to progerin production) that causes a functional change (mislocalization and interaction with IGF-1R, down-regulating its expression) which affects an aging-related phenotype (premature aging, cellular senescence, and reduced longevity). The mechanistic connection between sequence, function, and aging is well-supported by experimental validation.\n",
      "\n",
      "2. PMID: 30026579\n",
      "   Metadata Score: 0.80 | Abstract Score: 0.90\n",
      "   Title: Reversing wrinkled skin and hair loss in mice by restoring mitochondrial function.\n",
      "   Year: 2018 | Journal: Cell Death Dis\n",
      "   Analysis: The paper describes a specific sequence change (dominant-negative mutation in the polymerase domain of POLG1) that leads to a functional change (mitochondrial dysfunction) affecting an aging-related phenotype (skin wrinkles, hair loss, and inflammation), with strong experimental validation of the mechanistic link.\n",
      "\n",
      "======================================================================\n",
      "✓ Pipeline test completed!\n",
      "======================================================================\n"
     ]
    }
   ],
   "source": [
    "print(\"\\n\" + \"=\" * 70)\n",
    "print(f\"RESULTS: Found {len(highly_relevant_papers)} HIGH PRIORITY papers\")\n",
    "print(f\"         (out of {len(relevant_papers)} relevant, {len(papers)} total)\")\n",
    "print(\"=\" * 70)\n",
    "\n",
    "if highly_relevant_papers:\n",
    "    print(\"\\nHigh priority papers with sequence→function→aging links:\")\n",
    "    print(\"-\" * 70)\n",
    "    \n",
    "    for i, paper in enumerate(highly_relevant_papers, 1):\n",
    "        print(f\"\\n{i}. PMID: {paper['pmid']}\")\n",
    "        print(f\"   Metadata Score: {paper['metadata_score']:.2f} | Abstract Score: {paper['abstract_score']:.2f}\")\n",
    "        print(f\"   Title: {paper['title']}\")\n",
    "        print(f\"   Year: {paper['year']} | Journal: {paper['journal']}\")\n",
    "        print(f\"   Analysis: {paper['abstract_reasoning']}\")\n",
    "else:\n",
    "    print(\"\\n⚠️  No high priority papers found in this batch.\")\n",
    "    print(\"Papers from Step 3 may still be relevant but lack strong sequence→function→aging evidence.\")\n",
    "\n",
    "print(\"\\n\" + \"=\" * 70)\n",
    "print(\"✓ Pipeline test completed!\")\n",
    "print(\"=\" * 70)"
   ]
  },
  {
   "cell_type": "markdown",
   "metadata": {},
   "source": [
    "## Summary Statistics"
   ]
  },
  {
   "cell_type": "code",
   "execution_count": 8,
   "metadata": {},
   "outputs": [
    {
     "name": "stdout",
     "output_type": "stream",
     "text": [
      "\n",
      "📊 SUMMARY STATISTICS\n",
      "======================================================================\n",
      "Search query: IGF1R aging\n",
      "Total papers searched: 10\n",
      "Papers passing metadata screen: 5\n",
      "Papers passing abstract screen: 2\n",
      "Overall relevance rate: 20.0%\n",
      "Average metadata score: 0.80\n",
      "Average abstract score: 0.90\n",
      "\n",
      "Top scored paper: Progerin modulates the IGF-1R/Akt signaling involved in aging.\n"
     ]
    }
   ],
   "source": [
    "print(\"\\n📊 SUMMARY STATISTICS\")\n",
    "print(\"=\" * 70)\n",
    "print(f\"Search query: {SEARCH_QUERY}\")\n",
    "print(f\"Total papers searched: {len(papers)}\")\n",
    "print(f\"Papers passing metadata screen: {len(relevant_papers)}\")\n",
    "print(f\"Papers passing abstract screen: {len(highly_relevant_papers)}\")\n",
    "print(f\"Overall relevance rate: {len(highly_relevant_papers)/len(papers)*100:.1f}%\")\n",
    "\n",
    "if highly_relevant_papers:\n",
    "    avg_metadata_score = sum(p['metadata_score'] for p in highly_relevant_papers) / len(highly_relevant_papers)\n",
    "    avg_abstract_score = sum(p['abstract_score'] for p in highly_relevant_papers) / len(highly_relevant_papers)\n",
    "    print(f\"Average metadata score: {avg_metadata_score:.2f}\")\n",
    "    print(f\"Average abstract score: {avg_abstract_score:.2f}\")\n",
    "    print(f\"\\nTop scored paper: {highly_relevant_papers[0]['title']}\")"
   ]
  },
  {
   "cell_type": "markdown",
   "metadata": {},
   "source": [
    "## Export Results (Optional)"
   ]
  },
  {
   "cell_type": "code",
   "execution_count": null,
   "metadata": {},
   "outputs": [],
   "source": [
    "# Uncomment to save results to JSON\n",
    "# import json\n",
    "# with open('highly_relevant_papers.json', 'w') as f:\n",
    "#     json.dump(highly_relevant_papers, f, indent=2)\n",
    "# print(\"High priority results saved to highly_relevant_papers.json\")"
   ]
  }
 ],
 "metadata": {
  "kernelspec": {
   "display_name": "seq2func",
   "language": "python",
   "name": "python3"
  },
  "language_info": {
   "codemirror_mode": {
    "name": "ipython",
    "version": 3
   },
   "file_extension": ".py",
   "mimetype": "text/x-python",
   "name": "python",
   "nbconvert_exporter": "python",
   "pygments_lexer": "ipython3",
   "version": "3.12.3"
  }
 },
 "nbformat": 4,
 "nbformat_minor": 4
}
